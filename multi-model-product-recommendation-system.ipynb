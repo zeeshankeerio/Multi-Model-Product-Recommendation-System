{
 "cells": [
  {
   "cell_type": "markdown",
   "metadata": {},
   "source": [
    "# <center> BDA Final Project"
   ]
  },
  {
   "cell_type": "markdown",
   "metadata": {},
   "source": [
    "## Product Recommendation System for e-commerce businesses\n",
    "A well-developed recommendation system will help businesses improve their shopper's website experience and customer acquisition and retention.\n",
    "\n",
    "The recommendation system, We have designed below is based on the journey of a new customer from the time he/she lands on the business’s website for the first time to when he/she makes repeat purchases.\n",
    "\n",
    "The recommendation system is designed in 3 parts\n",
    "\n",
    "* **Recommendation system part I:** Product pupularity based system targetted at new customers\n",
    "\n",
    "* **Recommendation system part II:** Model-based collaborative filtering system based on customer's purchase history and ratings provided by other users who bought items similar items\n",
    "\n",
    "* **Recommendation system part III:** When a business is setting up its e-commerce website for the first time withou any product rating\n",
    "\n",
    "When a new customer without any previous purchase history visits the e-commerce website for the first time, he/she is recommended the most popular products sold on the company's website. Once, he/she makes a purchase, the recommendation system updates and recommends other products based on the purchase history and ratings provided by other users on the website. The latter part is done using collaborative filtering techniques."
   ]
  },
  {
   "cell_type": "markdown",
   "metadata": {},
   "source": [
    "<h1>Table of Contents<span class=\"tocSkip\"></span></h1>\n",
    "<div class=\"toc\"><ul class=\"toc-item\"><li><span><a href=\"#Introduction\" data-toc-modified-id=\"Introduction-1\"><span class=\"toc-item-num\">1&nbsp;&nbsp;</span>Introduction</a></span></li><li><span><a href=\"#Importing-Libraries\" data-toc-modified-id=\"Importing-Libraries-2\"><span class=\"toc-item-num\">2&nbsp;&nbsp;</span>Importing Libraries</a></span></li><li><span><a href=\"#Loading-Datasets\" data-toc-modified-id=\"Loading-Datasets-3\"><span class=\"toc-item-num\">3&nbsp;&nbsp;</span>Loading Datasets</a></span></li><li><span><a href=\"#Exploratory-Data-Analysis\" data-toc-modified-id=\"Exploratory-Data-Analysis-4\"><span class=\"toc-item-num\">4&nbsp;&nbsp;</span>Exploratory Data Analysis</a></span></li><li><span><a href=\"#Recommender-Systems\" data-toc-modified-id=\"Recommender-Systems-5\"><span class=\"toc-item-num\">5&nbsp;&nbsp;</span>Recommender Systems</a></span><ul class=\"toc-item\"><li><span><a href=\"#Popularity-Based-Recommender\" data-toc-modified-id=\"Popularity-Based-Recommender-5.1\"><span class=\"toc-item-num\">5.1&nbsp;&nbsp;</span>Popularity-Based Recommender</a></span></li><li><span><a href=\"#Collaborative-Recommender\" data-toc-modified-id=\"Collaborative-Recommender-5.2\"><span class=\"toc-item-num\">5.2&nbsp;&nbsp;</span>Collaborative Recommender</a></span><ul class=\"toc-item\"><li><span><a href=\"#SVD:-Matrix-Factorization-Based-Algorithm\" data-toc-modified-id=\"SVD:-Matrix-Factorization-Based-Algorithm-5.2.1\"><span class=\"toc-item-num\">5.2.1&nbsp;&nbsp;</span>SVD: Matrix Factorization Based Algorithm</a></span></li></ul></li><li><span><a href=\"#Hybrid-Recommender\" data-toc-modified-id=\"Hybrid-Recommender-5.3\"><span class=\"toc-item-num\">5.3&nbsp;&nbsp;</span>Item to item based recommendation system based on product description</a></span></li></ul></li><li><span><a href=\"#Conclusion\" data-toc-modified-id=\"Conclusion-6\"><span class=\"toc-item-num\">6&nbsp;&nbsp;</span>Conclusion</a></span></li></ul></div>"
   ]
  },
  {
   "cell_type": "markdown",
   "metadata": {},
   "source": [
    "## Recommendation System - Part I\n",
    "### Product popularity based recommendation system targeted at new customers\n",
    "* Popularity based are a great strategy to target the new customers with the most popular products sold on a business's website and is very useful to cold start a recommendation engine.\n",
    "[[](http://)](http://)\n",
    "* **Dataset : **[Amazon product review dataset](https://www.kaggle.com/skillsmuggler/amazon-ratings)"
   ]
  },
  {
   "cell_type": "markdown",
   "metadata": {},
   "source": [
    "#### Importing libraries"
   ]
  },
  {
   "cell_type": "code",
   "execution_count": 4,
   "metadata": {},
   "outputs": [],
   "source": [
    "import numpy as np\n",
    "import pandas as pd\n",
    "import matplotlib.pyplot as plt\n",
    "import seaborn as sns\n",
    "\n",
    "# %matplotlib inline\n",
    "plt.style.use(\"ggplot\")\n",
    "\n",
    "import sklearn\n",
    "from sklearn.decomposition import TruncatedSVD"
   ]
  },
  {
   "cell_type": "markdown",
   "metadata": {},
   "source": [
    "#### Loading the dataset"
   ]
  },
  {
   "cell_type": "code",
   "execution_count": 5,
   "metadata": {},
   "outputs": [
    {
     "data": {
      "text/html": [
       "<div>\n",
       "<style scoped>\n",
       "    .dataframe tbody tr th:only-of-type {\n",
       "        vertical-align: middle;\n",
       "    }\n",
       "\n",
       "    .dataframe tbody tr th {\n",
       "        vertical-align: top;\n",
       "    }\n",
       "\n",
       "    .dataframe thead th {\n",
       "        text-align: right;\n",
       "    }\n",
       "</style>\n",
       "<table border=\"1\" class=\"dataframe\">\n",
       "  <thead>\n",
       "    <tr style=\"text-align: right;\">\n",
       "      <th></th>\n",
       "      <th>UserId</th>\n",
       "      <th>ProductId</th>\n",
       "      <th>Rating</th>\n",
       "      <th>Timestamp</th>\n",
       "    </tr>\n",
       "  </thead>\n",
       "  <tbody>\n",
       "    <tr>\n",
       "      <th>0</th>\n",
       "      <td>A39HTATAQ9V7YF</td>\n",
       "      <td>0205616461</td>\n",
       "      <td>5.0</td>\n",
       "      <td>1369699200</td>\n",
       "    </tr>\n",
       "    <tr>\n",
       "      <th>1</th>\n",
       "      <td>A3JM6GV9MNOF9X</td>\n",
       "      <td>0558925278</td>\n",
       "      <td>3.0</td>\n",
       "      <td>1355443200</td>\n",
       "    </tr>\n",
       "    <tr>\n",
       "      <th>2</th>\n",
       "      <td>A1Z513UWSAAO0F</td>\n",
       "      <td>0558925278</td>\n",
       "      <td>5.0</td>\n",
       "      <td>1404691200</td>\n",
       "    </tr>\n",
       "    <tr>\n",
       "      <th>3</th>\n",
       "      <td>A1WMRR494NWEWV</td>\n",
       "      <td>0733001998</td>\n",
       "      <td>4.0</td>\n",
       "      <td>1382572800</td>\n",
       "    </tr>\n",
       "    <tr>\n",
       "      <th>4</th>\n",
       "      <td>A3IAAVS479H7M7</td>\n",
       "      <td>0737104473</td>\n",
       "      <td>1.0</td>\n",
       "      <td>1274227200</td>\n",
       "    </tr>\n",
       "  </tbody>\n",
       "</table>\n",
       "</div>"
      ],
      "text/plain": [
       "           UserId   ProductId  Rating   Timestamp\n",
       "0  A39HTATAQ9V7YF  0205616461     5.0  1369699200\n",
       "1  A3JM6GV9MNOF9X  0558925278     3.0  1355443200\n",
       "2  A1Z513UWSAAO0F  0558925278     5.0  1404691200\n",
       "3  A1WMRR494NWEWV  0733001998     4.0  1382572800\n",
       "4  A3IAAVS479H7M7  0737104473     1.0  1274227200"
      ]
     },
     "execution_count": 5,
     "metadata": {},
     "output_type": "execute_result"
    }
   ],
   "source": [
    "amazon_ratings = pd.read_csv('ratings_Beauty.csv')\n",
    "amazon_ratings = amazon_ratings.dropna()\n",
    "amazon_ratings.head()"
   ]
  },
  {
   "cell_type": "code",
   "execution_count": 6,
   "metadata": {},
   "outputs": [
    {
     "data": {
      "text/html": [
       "<div>\n",
       "<style scoped>\n",
       "    .dataframe tbody tr th:only-of-type {\n",
       "        vertical-align: middle;\n",
       "    }\n",
       "\n",
       "    .dataframe tbody tr th {\n",
       "        vertical-align: top;\n",
       "    }\n",
       "\n",
       "    .dataframe thead th {\n",
       "        text-align: right;\n",
       "    }\n",
       "</style>\n",
       "<table border=\"1\" class=\"dataframe\">\n",
       "  <thead>\n",
       "    <tr style=\"text-align: right;\">\n",
       "      <th></th>\n",
       "      <th>0</th>\n",
       "    </tr>\n",
       "  </thead>\n",
       "  <tbody>\n",
       "    <tr>\n",
       "      <th>UserId</th>\n",
       "      <td>0.0</td>\n",
       "    </tr>\n",
       "    <tr>\n",
       "      <th>ProductId</th>\n",
       "      <td>0.0</td>\n",
       "    </tr>\n",
       "    <tr>\n",
       "      <th>Rating</th>\n",
       "      <td>0.0</td>\n",
       "    </tr>\n",
       "    <tr>\n",
       "      <th>Timestamp</th>\n",
       "      <td>0.0</td>\n",
       "    </tr>\n",
       "  </tbody>\n",
       "</table>\n",
       "</div>"
      ],
      "text/plain": [
       "             0\n",
       "UserId     0.0\n",
       "ProductId  0.0\n",
       "Rating     0.0\n",
       "Timestamp  0.0"
      ]
     },
     "execution_count": 6,
     "metadata": {},
     "output_type": "execute_result"
    }
   ],
   "source": [
    "\n",
    "missing_data = pd.DataFrame(amazon_ratings.isnull().mean()*100)\n",
    "missing_data"
   ]
  },
  {
   "cell_type": "markdown",
   "metadata": {},
   "source": [
    "All the columns are clean"
   ]
  },
  {
   "cell_type": "code",
   "execution_count": 7,
   "metadata": {},
   "outputs": [
    {
     "data": {
      "text/plain": [
       "(2023070, 4)"
      ]
     },
     "execution_count": 7,
     "metadata": {},
     "output_type": "execute_result"
    }
   ],
   "source": [
    "amazon_ratings.shape"
   ]
  },
  {
   "cell_type": "markdown",
   "metadata": {},
   "source": [
    "### Exploratory Data Analysis"
   ]
  },
  {
   "cell_type": "code",
   "execution_count": 8,
   "metadata": {},
   "outputs": [
    {
     "name": "stdout",
     "output_type": "stream",
     "text": [
      "Upper bound: 0          False\n",
      "1          False\n",
      "2          False\n",
      "3          False\n",
      "4          False\n",
      "           ...  \n",
      "2023065    False\n",
      "2023066    False\n",
      "2023067    False\n",
      "2023068    False\n",
      "2023069    False\n",
      "Name: Rating, Length: 2023070, dtype: bool\n",
      "(array([], dtype=int64),)\n",
      "Lower bound: 0          False\n",
      "1          False\n",
      "2          False\n",
      "3          False\n",
      "4           True\n",
      "           ...  \n",
      "2023065    False\n",
      "2023066    False\n",
      "2023067    False\n",
      "2023068    False\n",
      "2023069    False\n",
      "Name: Rating, Length: 2023070, dtype: bool\n",
      "(array([      4,      23,      30, ..., 2022846, 2022913, 2022969],\n",
      "      dtype=int64),)\n"
     ]
    },
    {
     "name": "stderr",
     "output_type": "stream",
     "text": [
      "C:\\Users\\Shaizan Ahmed\\AppData\\Local\\Temp\\ipykernel_1988\\2574857160.py:2: DeprecationWarning: the `interpolation=` argument to percentile was renamed to `method=`, which has additional options.\n",
      "Users of the modes 'nearest', 'lower', 'higher', or 'midpoint' are encouraged to review the method they used. (Deprecated NumPy 1.22)\n",
      "  Q1 = np.percentile(amazon_ratings['Rating'], 25,\n",
      "C:\\Users\\Shaizan Ahmed\\AppData\\Local\\Temp\\ipykernel_1988\\2574857160.py:5: DeprecationWarning: the `interpolation=` argument to percentile was renamed to `method=`, which has additional options.\n",
      "Users of the modes 'nearest', 'lower', 'higher', or 'midpoint' are encouraged to review the method they used. (Deprecated NumPy 1.22)\n",
      "  Q3 = np.percentile(amazon_ratings['Rating'], 75,\n"
     ]
    }
   ],
   "source": [
    "# IQR\n",
    "Q1 = np.percentile(amazon_ratings['Rating'], 25,\n",
    "                   interpolation = 'midpoint')\n",
    " \n",
    "Q3 = np.percentile(amazon_ratings['Rating'], 75,\n",
    "                   interpolation = 'midpoint')\n",
    "IQR = Q3 - Q1\n",
    "\n",
    "\n",
    "# Above Upper bound\n",
    "upper = amazon_ratings['Rating'] >= (Q3+1.5*IQR)\n",
    " \n",
    "print(\"Upper bound:\",upper)\n",
    "print(np.where(upper))\n",
    " \n",
    "# Below Lower bound\n",
    "lower = amazon_ratings['Rating'] <= (Q1-1.5*IQR)\n",
    "print(\"Lower bound:\", lower)\n",
    "print(np.where(lower))"
   ]
  },
  {
   "cell_type": "code",
   "execution_count": 9,
   "metadata": {},
   "outputs": [
    {
     "data": {
      "text/plain": [
       "4.0"
      ]
     },
     "execution_count": 9,
     "metadata": {},
     "output_type": "execute_result"
    }
   ],
   "source": [
    "amazon_ratings['Rating'][3]\n"
   ]
  },
  {
   "cell_type": "code",
   "execution_count": 11,
   "metadata": {},
   "outputs": [
    {
     "data": {
      "image/png": "[encoded data removed]",
      "text/plain": [
       "<Figure size 1000x600 with 1 Axes>"
      ]
     },
     "metadata": {},
     "output_type": "display_data"
    }
   ],
   "source": [
    "plt.figure(figsize=(10,6))\n",
    "sns.countplot(x='Rating', data=amazon_ratings, palette='winter')\n",
    "plt.xlabel('Rating', fontsize=12)\n",
    "plt.ylabel('Count', fontsize=12)\n",
    "plt.title('Number of Each Rating', fontsize=15)\n",
    "plt.show()"
   ]
  },
  {
   "cell_type": "markdown",
   "metadata": {},
   "source": [
    "<center>We can see that most of users rated 5 for the products."
   ]
  },
  {
   "cell_type": "code",
   "execution_count": 19,
   "metadata": {},
   "outputs": [],
   "source": [
    "df_rating=pd.DataFrame({'Number of Rating':amazon_ratings.groupby('ProductId').count()['Rating'], 'Mean Rating':amazon_ratings.groupby('ProductId').mean()['Rating']})"
   ]
  },
  {
   "cell_type": "code",
   "execution_count": 20,
   "metadata": {},
   "outputs": [
    {
     "data": {
      "text/html": [
       "<div>\n",
       "<style scoped>\n",
       "    .dataframe tbody tr th:only-of-type {\n",
       "        vertical-align: middle;\n",
       "    }\n",
       "\n",
       "    .dataframe tbody tr th {\n",
       "        vertical-align: top;\n",
       "    }\n",
       "\n",
       "    .dataframe thead th {\n",
       "        text-align: right;\n",
       "    }\n",
       "</style>\n",
       "<table border=\"1\" class=\"dataframe\">\n",
       "  <thead>\n",
       "    <tr style=\"text-align: right;\">\n",
       "      <th></th>\n",
       "      <th>Number of Rating</th>\n",
       "      <th>Mean Rating</th>\n",
       "    </tr>\n",
       "    <tr>\n",
       "      <th>ProductId</th>\n",
       "      <th></th>\n",
       "      <th></th>\n",
       "    </tr>\n",
       "  </thead>\n",
       "  <tbody>\n",
       "    <tr>\n",
       "      <th>0205616461</th>\n",
       "      <td>1</td>\n",
       "      <td>5.0</td>\n",
       "    </tr>\n",
       "    <tr>\n",
       "      <th>0558925278</th>\n",
       "      <td>2</td>\n",
       "      <td>4.0</td>\n",
       "    </tr>\n",
       "    <tr>\n",
       "      <th>0733001998</th>\n",
       "      <td>1</td>\n",
       "      <td>4.0</td>\n",
       "    </tr>\n",
       "    <tr>\n",
       "      <th>0737104473</th>\n",
       "      <td>1</td>\n",
       "      <td>1.0</td>\n",
       "    </tr>\n",
       "    <tr>\n",
       "      <th>0762451459</th>\n",
       "      <td>1</td>\n",
       "      <td>5.0</td>\n",
       "    </tr>\n",
       "  </tbody>\n",
       "</table>\n",
       "</div>"
      ],
      "text/plain": [
       "            Number of Rating  Mean Rating\n",
       "ProductId                                \n",
       "0205616461                 1          5.0\n",
       "0558925278                 2          4.0\n",
       "0733001998                 1          4.0\n",
       "0737104473                 1          1.0\n",
       "0762451459                 1          5.0"
      ]
     },
     "execution_count": 20,
     "metadata": {},
     "output_type": "execute_result"
    }
   ],
   "source": [
    "df_rating.head()"
   ]
  },
  {
   "cell_type": "code",
   "execution_count": 23,
   "metadata": {},
   "outputs": [
    {
     "data": {
      "image/png": "[encoded data removed]",
      "text/plain": [
       "<Figure size 1800x600 with 2 Axes>"
      ]
     },
     "metadata": {},
     "output_type": "display_data"
    }
   ],
   "source": [
    "plt.figure(figsize=(18,6))\n",
    "\n",
    "plt.subplot(1,2,1)\n",
    "plt.hist(x='Number of Rating',data=df_rating,bins=30,color='teal')\n",
    "plt.title('Distribution of Number of Rating', fontsize=15)\n",
    "plt.xlabel('Number of Rating', fontsize=12)\n",
    "plt.ylabel('Frequency', fontsize=12)\n",
    "\n",
    "plt.subplot(1,2,2)\n",
    "plt.hist(x='Mean Rating',data=df_rating,bins=30, color='slateblue')\n",
    "plt.title('Distribution of Mean Rating', fontsize=15)\n",
    "plt.xlabel('Mean Rating', fontsize=12)\n",
    "plt.yticks([])\n",
    "plt.show()"
   ]
  },
  {
   "cell_type": "markdown",
   "metadata": {},
   "source": [
    "From these histograms we can see that most of the number of ratings are between 0 and 1825, and most of the products have a mean rating of 5."
   ]
  },
  {
   "cell_type": "markdown",
   "metadata": {},
   "source": [
    "We create a scatter plot to observe the relationship between Number of Rating and Mean Rating."
   ]
  },
  {
   "cell_type": "code",
   "execution_count": 25,
   "metadata": {},
   "outputs": [
    {
     "data": {
      "text/plain": [
       "<Figure size 800x600 with 0 Axes>"
      ]
     },
     "metadata": {},
     "output_type": "display_data"
    },
    {
     "data": {
      "image/png": "[encoded data removed]",
      "text/plain": [
       "<Figure size 700x700 with 3 Axes>"
      ]
     },
     "metadata": {},
     "output_type": "display_data"
    }
   ],
   "source": [
    "plt.figure(figsize=(8,6))\n",
    "sns.jointplot(x='Number of Rating', y='Mean Rating',data=df_rating,color='b', height=7)\n",
    "plt.suptitle('Mean Rating Versus Number of Rating', fontsize=15, y=0.92)\n",
    "\n",
    "plt.show()"
   ]
  },
  {
   "cell_type": "markdown",
   "metadata": {},
   "source": [
    "### Top products based on sales"
   ]
  },
  {
   "cell_type": "code",
   "execution_count": 13,
   "metadata": {},
   "outputs": [
    {
     "data": {
      "text/html": [
       "<div>\n",
       "<style scoped>\n",
       "    .dataframe tbody tr th:only-of-type {\n",
       "        vertical-align: middle;\n",
       "    }\n",
       "\n",
       "    .dataframe tbody tr th {\n",
       "        vertical-align: top;\n",
       "    }\n",
       "\n",
       "    .dataframe thead th {\n",
       "        text-align: right;\n",
       "    }\n",
       "</style>\n",
       "<table border=\"1\" class=\"dataframe\">\n",
       "  <thead>\n",
       "    <tr style=\"text-align: right;\">\n",
       "      <th></th>\n",
       "      <th>Rating</th>\n",
       "    </tr>\n",
       "    <tr>\n",
       "      <th>ProductId</th>\n",
       "      <th></th>\n",
       "    </tr>\n",
       "  </thead>\n",
       "  <tbody>\n",
       "    <tr>\n",
       "      <th>B001MA0QY2</th>\n",
       "      <td>7533</td>\n",
       "    </tr>\n",
       "    <tr>\n",
       "      <th>B0009V1YR8</th>\n",
       "      <td>2869</td>\n",
       "    </tr>\n",
       "    <tr>\n",
       "      <th>B0043OYFKU</th>\n",
       "      <td>2477</td>\n",
       "    </tr>\n",
       "    <tr>\n",
       "      <th>B0000YUXI0</th>\n",
       "      <td>2143</td>\n",
       "    </tr>\n",
       "    <tr>\n",
       "      <th>B003V265QW</th>\n",
       "      <td>2088</td>\n",
       "    </tr>\n",
       "    <tr>\n",
       "      <th>B000ZMBSPE</th>\n",
       "      <td>2041</td>\n",
       "    </tr>\n",
       "    <tr>\n",
       "      <th>B003BQ6QXK</th>\n",
       "      <td>1918</td>\n",
       "    </tr>\n",
       "    <tr>\n",
       "      <th>B004OHQR1Q</th>\n",
       "      <td>1885</td>\n",
       "    </tr>\n",
       "    <tr>\n",
       "      <th>B00121UVU0</th>\n",
       "      <td>1838</td>\n",
       "    </tr>\n",
       "    <tr>\n",
       "      <th>B000FS05VG</th>\n",
       "      <td>1589</td>\n",
       "    </tr>\n",
       "  </tbody>\n",
       "</table>\n",
       "</div>"
      ],
      "text/plain": [
       "            Rating\n",
       "ProductId         \n",
       "B001MA0QY2    7533\n",
       "B0009V1YR8    2869\n",
       "B0043OYFKU    2477\n",
       "B0000YUXI0    2143\n",
       "B003V265QW    2088\n",
       "B000ZMBSPE    2041\n",
       "B003BQ6QXK    1918\n",
       "B004OHQR1Q    1885\n",
       "B00121UVU0    1838\n",
       "B000FS05VG    1589"
      ]
     },
     "execution_count": 13,
     "metadata": {},
     "output_type": "execute_result"
    }
   ],
   "source": [
    "#Top 10 Products based on sales.\n",
    "popular_products = pd.DataFrame(amazon_ratings.groupby('ProductId')['Rating'].count())\n",
    "most_popular = popular_products.sort_values('Rating', ascending=False)\n",
    "most_popular.head(10)"
   ]
  },
  {
   "cell_type": "code",
   "execution_count": 15,
   "metadata": {},
   "outputs": [
    {
     "data": {
      "text/plain": [
       "<AxesSubplot:xlabel='ProductId'>"
      ]
     },
     "execution_count": 15,
     "metadata": {},
     "output_type": "execute_result"
    },
    {
     "data": {
      "image/png": "[encoded data removed]",
      "text/plain": [
       "<Figure size 640x480 with 1 Axes>"
      ]
     },
     "metadata": {},
     "output_type": "display_data"
    }
   ],
   "source": [
    "most_popular.head(30).plot(kind = \"bar\", color='g')"
   ]
  },
  {
   "cell_type": "markdown",
   "metadata": {},
   "source": [
    "** Analysis:**\n",
    "\n",
    "* The above graph gives us the most popular products (arranged in descending order) sold by the business.\n",
    "\n",
    "* For eaxmple, product, ID # B001MA0QY2 has sales of over 7000, the next most popular product, ID # B0009V1YR8 has sales of  3000, etc.     "
   ]
  },
  {
   "cell_type": "markdown",
   "metadata": {},
   "source": [
    "### Number of Unique users"
   ]
  },
  {
   "cell_type": "code",
   "execution_count": 28,
   "metadata": {},
   "outputs": [
    {
     "name": "stdout",
     "output_type": "stream",
     "text": [
      "Number of unique users 1210271\n"
     ]
    }
   ],
   "source": [
    "print('Number of unique users', len(amazon_ratings['UserId'].unique()))"
   ]
  },
  {
   "cell_type": "markdown",
   "metadata": {},
   "source": [
    "### Number of Products with good ratings"
   ]
  },
  {
   "cell_type": "code",
   "execution_count": 29,
   "metadata": {},
   "outputs": [
    {
     "name": "stdout",
     "output_type": "stream",
     "text": [
      "Number of unique products rated high 220746\n"
     ]
    }
   ],
   "source": [
    "max_ratings1 = amazon_ratings[amazon_ratings['Rating'] >= 4.0]\n",
    "print('Number of unique products rated high',len(max_ratings1['ProductId'].unique()))"
   ]
  },
  {
   "cell_type": "markdown",
   "metadata": {},
   "source": [
    "### Model Preparation"
   ]
  },
  {
   "cell_type": "code",
   "execution_count": 30,
   "metadata": {},
   "outputs": [],
   "source": [
    "#Now we will drop timestamp column as it isn't much of help.\n",
    "\n",
    "amazon_ratings.drop('Timestamp',axis=1,inplace=True)"
   ]
  },
  {
   "cell_type": "code",
   "execution_count": 31,
   "metadata": {},
   "outputs": [],
   "source": [
    "from sklearn.model_selection import train_test_split\n",
    "train_data, test_data = train_test_split(amazon_ratings, test_size = 0.2, random_state=0)"
   ]
  },
  {
   "cell_type": "code",
   "execution_count": 32,
   "metadata": {},
   "outputs": [
    {
     "data": {
      "text/html": [
       "<div>\n",
       "<style scoped>\n",
       "    .dataframe tbody tr th:only-of-type {\n",
       "        vertical-align: middle;\n",
       "    }\n",
       "\n",
       "    .dataframe tbody tr th {\n",
       "        vertical-align: top;\n",
       "    }\n",
       "\n",
       "    .dataframe thead th {\n",
       "        text-align: right;\n",
       "    }\n",
       "</style>\n",
       "<table border=\"1\" class=\"dataframe\">\n",
       "  <thead>\n",
       "    <tr style=\"text-align: right;\">\n",
       "      <th></th>\n",
       "      <th>UserId</th>\n",
       "      <th>ProductId</th>\n",
       "      <th>Rating</th>\n",
       "    </tr>\n",
       "  </thead>\n",
       "  <tbody>\n",
       "    <tr>\n",
       "      <th>1820811</th>\n",
       "      <td>A3T41HVBC1PSCO</td>\n",
       "      <td>B00B1OOZU0</td>\n",
       "      <td>5.0</td>\n",
       "    </tr>\n",
       "    <tr>\n",
       "      <th>1541414</th>\n",
       "      <td>A24Y7P9O9LU6TH</td>\n",
       "      <td>B006Z9ACMG</td>\n",
       "      <td>5.0</td>\n",
       "    </tr>\n",
       "    <tr>\n",
       "      <th>783039</th>\n",
       "      <td>A1F7YU6O5RU432</td>\n",
       "      <td>B001T8MD8Y</td>\n",
       "      <td>5.0</td>\n",
       "    </tr>\n",
       "    <tr>\n",
       "      <th>1699677</th>\n",
       "      <td>A1HCJ5CDLNWJPJ</td>\n",
       "      <td>B008U4AR3I</td>\n",
       "      <td>5.0</td>\n",
       "    </tr>\n",
       "    <tr>\n",
       "      <th>787779</th>\n",
       "      <td>APDELNTXEZAX4</td>\n",
       "      <td>B001TXFMD2</td>\n",
       "      <td>4.0</td>\n",
       "    </tr>\n",
       "  </tbody>\n",
       "</table>\n",
       "</div>"
      ],
      "text/plain": [
       "                 UserId   ProductId  Rating\n",
       "1820811  A3T41HVBC1PSCO  B00B1OOZU0     5.0\n",
       "1541414  A24Y7P9O9LU6TH  B006Z9ACMG     5.0\n",
       "783039   A1F7YU6O5RU432  B001T8MD8Y     5.0\n",
       "1699677  A1HCJ5CDLNWJPJ  B008U4AR3I     5.0\n",
       "787779    APDELNTXEZAX4  B001TXFMD2     4.0"
      ]
     },
     "execution_count": 32,
     "metadata": {},
     "output_type": "execute_result"
    }
   ],
   "source": [
    "train_data.head()"
   ]
  },
  {
   "cell_type": "code",
   "execution_count": 33,
   "metadata": {},
   "outputs": [
    {
     "data": {
      "text/html": [
       "<div>\n",
       "<style scoped>\n",
       "    .dataframe tbody tr th:only-of-type {\n",
       "        vertical-align: middle;\n",
       "    }\n",
       "\n",
       "    .dataframe tbody tr th {\n",
       "        vertical-align: top;\n",
       "    }\n",
       "\n",
       "    .dataframe thead th {\n",
       "        text-align: right;\n",
       "    }\n",
       "</style>\n",
       "<table border=\"1\" class=\"dataframe\">\n",
       "  <thead>\n",
       "    <tr style=\"text-align: right;\">\n",
       "      <th></th>\n",
       "      <th>UserId</th>\n",
       "      <th>ProductId</th>\n",
       "      <th>Rating</th>\n",
       "    </tr>\n",
       "  </thead>\n",
       "  <tbody>\n",
       "    <tr>\n",
       "      <th>723411</th>\n",
       "      <td>A23ZJBVZ4OLDJ</td>\n",
       "      <td>B001KNHM4I</td>\n",
       "      <td>3.0</td>\n",
       "    </tr>\n",
       "    <tr>\n",
       "      <th>1472875</th>\n",
       "      <td>A3O52IDYQ4Z66H</td>\n",
       "      <td>B0062U1QC8</td>\n",
       "      <td>4.0</td>\n",
       "    </tr>\n",
       "    <tr>\n",
       "      <th>2000120</th>\n",
       "      <td>A1PDYBT822BHNJ</td>\n",
       "      <td>B00I14O9C2</td>\n",
       "      <td>5.0</td>\n",
       "    </tr>\n",
       "    <tr>\n",
       "      <th>2014061</th>\n",
       "      <td>A14F5W1N7CZDVW</td>\n",
       "      <td>B00JDTFBR6</td>\n",
       "      <td>5.0</td>\n",
       "    </tr>\n",
       "    <tr>\n",
       "      <th>1076951</th>\n",
       "      <td>A2EPK0CT24CZHS</td>\n",
       "      <td>B003O3C06M</td>\n",
       "      <td>4.0</td>\n",
       "    </tr>\n",
       "  </tbody>\n",
       "</table>\n",
       "</div>"
      ],
      "text/plain": [
       "                 UserId   ProductId  Rating\n",
       "723411    A23ZJBVZ4OLDJ  B001KNHM4I     3.0\n",
       "1472875  A3O52IDYQ4Z66H  B0062U1QC8     4.0\n",
       "2000120  A1PDYBT822BHNJ  B00I14O9C2     5.0\n",
       "2014061  A14F5W1N7CZDVW  B00JDTFBR6     5.0\n",
       "1076951  A2EPK0CT24CZHS  B003O3C06M     4.0"
      ]
     },
     "execution_count": 33,
     "metadata": {},
     "output_type": "execute_result"
    }
   ],
   "source": [
    "\n",
    "test_data.head()"
   ]
  },
  {
   "cell_type": "code",
   "execution_count": 34,
   "metadata": {},
   "outputs": [],
   "source": [
    "train_data_grouped = train_data.groupby('ProductId').mean().reset_index()"
   ]
  },
  {
   "cell_type": "code",
   "execution_count": 35,
   "metadata": {},
   "outputs": [
    {
     "data": {
      "text/html": [
       "<div>\n",
       "<style scoped>\n",
       "    .dataframe tbody tr th:only-of-type {\n",
       "        vertical-align: middle;\n",
       "    }\n",
       "\n",
       "    .dataframe tbody tr th {\n",
       "        vertical-align: top;\n",
       "    }\n",
       "\n",
       "    .dataframe thead th {\n",
       "        text-align: right;\n",
       "    }\n",
       "</style>\n",
       "<table border=\"1\" class=\"dataframe\">\n",
       "  <thead>\n",
       "    <tr style=\"text-align: right;\">\n",
       "      <th></th>\n",
       "      <th>ProductId</th>\n",
       "      <th>Rating</th>\n",
       "    </tr>\n",
       "  </thead>\n",
       "  <tbody>\n",
       "    <tr>\n",
       "      <th>0</th>\n",
       "      <td>0558925278</td>\n",
       "      <td>3.0</td>\n",
       "    </tr>\n",
       "    <tr>\n",
       "      <th>1</th>\n",
       "      <td>0733001998</td>\n",
       "      <td>4.0</td>\n",
       "    </tr>\n",
       "    <tr>\n",
       "      <th>2</th>\n",
       "      <td>0737104473</td>\n",
       "      <td>1.0</td>\n",
       "    </tr>\n",
       "    <tr>\n",
       "      <th>3</th>\n",
       "      <td>0762451459</td>\n",
       "      <td>5.0</td>\n",
       "    </tr>\n",
       "    <tr>\n",
       "      <th>4</th>\n",
       "      <td>1304139220</td>\n",
       "      <td>5.0</td>\n",
       "    </tr>\n",
       "  </tbody>\n",
       "</table>\n",
       "</div>"
      ],
      "text/plain": [
       "    ProductId  Rating\n",
       "0  0558925278     3.0\n",
       "1  0733001998     4.0\n",
       "2  0737104473     1.0\n",
       "3  0762451459     5.0\n",
       "4  1304139220     5.0"
      ]
     },
     "execution_count": 35,
     "metadata": {},
     "output_type": "execute_result"
    }
   ],
   "source": [
    "\n",
    "train_data_grouped.head()"
   ]
  },
  {
   "cell_type": "code",
   "execution_count": 36,
   "metadata": {},
   "outputs": [
    {
     "data": {
      "text/plain": [
       "ProductId\n",
       "B001MA0QY2    5978\n",
       "B0009V1YR8    2266\n",
       "B0043OYFKU    1998\n",
       "B0000YUXI0    1711\n",
       "B003V265QW    1704\n",
       "B000ZMBSPE    1649\n",
       "B003BQ6QXK    1555\n",
       "B004OHQR1Q    1505\n",
       "B00121UVU0    1457\n",
       "B000FS05VG    1266\n",
       "Name: Rating, dtype: int64"
      ]
     },
     "execution_count": 36,
     "metadata": {},
     "output_type": "execute_result"
    }
   ],
   "source": [
    "train_data.groupby('ProductId')['Rating'].count().sort_values(ascending=False).head(10)"
   ]
  },
  {
   "cell_type": "code",
   "execution_count": 37,
   "metadata": {},
   "outputs": [],
   "source": [
    "train_data_sort = train_data_grouped.sort_values(['Rating', 'ProductId'], ascending=False)"
   ]
  },
  {
   "cell_type": "code",
   "execution_count": 38,
   "metadata": {},
   "outputs": [
    {
     "data": {
      "text/html": [
       "<div>\n",
       "<style scoped>\n",
       "    .dataframe tbody tr th:only-of-type {\n",
       "        vertical-align: middle;\n",
       "    }\n",
       "\n",
       "    .dataframe tbody tr th {\n",
       "        vertical-align: top;\n",
       "    }\n",
       "\n",
       "    .dataframe thead th {\n",
       "        text-align: right;\n",
       "    }\n",
       "</style>\n",
       "<table border=\"1\" class=\"dataframe\">\n",
       "  <thead>\n",
       "    <tr style=\"text-align: right;\">\n",
       "      <th></th>\n",
       "      <th>ProductId</th>\n",
       "      <th>Rating</th>\n",
       "    </tr>\n",
       "  </thead>\n",
       "  <tbody>\n",
       "    <tr>\n",
       "      <th>226740</th>\n",
       "      <td>B00LU0LTOU</td>\n",
       "      <td>5.0</td>\n",
       "    </tr>\n",
       "    <tr>\n",
       "      <th>226739</th>\n",
       "      <td>B00LPVG6V0</td>\n",
       "      <td>5.0</td>\n",
       "    </tr>\n",
       "    <tr>\n",
       "      <th>226738</th>\n",
       "      <td>B00LP2YB8E</td>\n",
       "      <td>5.0</td>\n",
       "    </tr>\n",
       "    <tr>\n",
       "      <th>226737</th>\n",
       "      <td>B00LOS7MEE</td>\n",
       "      <td>5.0</td>\n",
       "    </tr>\n",
       "    <tr>\n",
       "      <th>226736</th>\n",
       "      <td>B00LORWRJA</td>\n",
       "      <td>5.0</td>\n",
       "    </tr>\n",
       "  </tbody>\n",
       "</table>\n",
       "</div>"
      ],
      "text/plain": [
       "         ProductId  Rating\n",
       "226740  B00LU0LTOU     5.0\n",
       "226739  B00LPVG6V0     5.0\n",
       "226738  B00LP2YB8E     5.0\n",
       "226737  B00LOS7MEE     5.0\n",
       "226736  B00LORWRJA     5.0"
      ]
     },
     "execution_count": 38,
     "metadata": {},
     "output_type": "execute_result"
    }
   ],
   "source": [
    "\n",
    "train_data_sort.head()"
   ]
  },
  {
   "cell_type": "markdown",
   "metadata": {},
   "source": [
    "### Model 1: Popularity based recommender model"
   ]
  },
  {
   "cell_type": "markdown",
   "metadata": {},
   "source": [
    "The implementation of Popularity-Based Filtering is straighforward. All we have to do is sort our products based on ratings, and display the top products of our list. Therefore, we should;\n",
    "\n",
    "- Create a metric to score or rate the products.\n",
    "- Calculate the score for every product.\n",
    "- Sort the scores and recommend the best rated product to the users.\n",
    "\n",
    "We can use the average ratings of the products as the score but using this will not be fair enough since a product with 5average rating and only43 votes cannot be considered better than the product with 4 as average rating but 40 votes. So, we use IMDB's weighted rating formula to score the products, as follows:\n",
    "\n",
    "Weighted Rating (WR) = $(\\frac{v}{v + m} . R) + (\\frac{m}{v + m} . C)$ \n",
    "\n",
    "- v: the number of votes for the product\n",
    "\n",
    "- m: the minimum votes required to be listed in the chart\n",
    "\n",
    "- R: the average rating of the product\n",
    "\n",
    "- C: the mean vote across the whole report"
   ]
  },
  {
   "cell_type": "code",
   "execution_count": 26,
   "metadata": {},
   "outputs": [
    {
     "data": {
      "text/plain": [
       "4.149251141223176"
      ]
     },
     "execution_count": 26,
     "metadata": {},
     "output_type": "execute_result"
    }
   ],
   "source": [
    "df_rating['Mean Rating'].mean()"
   ]
  },
  {
   "cell_type": "markdown",
   "metadata": {},
   "source": [
    "The mean rating for all the products (C) is 4.1 on a scale of 5.\n",
    "\n",
    "The next step is to determine an appropriate value for m, the minimum number of votes required for a product to be listed in the chart. We use 90th percentile as our cutoff. In other words, for a product to feature in the charts, the number of its votes should be higher than that of 90% of the products in the list."
   ]
  },
  {
   "cell_type": "code",
   "execution_count": 50,
   "metadata": {},
   "outputs": [
    {
     "data": {
      "text/plain": [
       "15.0"
      ]
     },
     "execution_count": 50,
     "metadata": {},
     "output_type": "execute_result"
    }
   ],
   "source": [
    "df_rating['Number of Rating'].quantile(q=0.9)"
   ]
  },
  {
   "cell_type": "markdown",
   "metadata": {},
   "source": [
    "Now, we filter the products that qualify for the chart and put them in a new dataframe called df_filtered."
   ]
  },
  {
   "cell_type": "markdown",
   "metadata": {},
   "source": [
    "Now, we calculate score for each qualified product. To do this, we define a function, weighted_rating(), and apply this function to the DataFrame of qualified products."
   ]
  },
  {
   "cell_type": "code",
   "execution_count": 54,
   "metadata": {},
   "outputs": [],
   "source": [
    "def product_score(x):\n",
    "    v=x['Number of Rating']\n",
    "    m=df_rating['Number of Rating'].quantile(q=0.9)\n",
    "    R=x['Mean Rating']\n",
    "    C=df_rating['Mean Rating'].mean()\n",
    "    return ((R*v)/(v+m))+((C*m)/(v+m))"
   ]
  },
  {
   "cell_type": "code",
   "execution_count": 55,
   "metadata": {},
   "outputs": [
    {
     "name": "stderr",
     "output_type": "stream",
     "text": [
      "C:\\Users\\Shaizan Ahmed\\AppData\\Local\\Temp\\ipykernel_1988\\682934750.py:1: SettingWithCopyWarning: \n",
      "A value is trying to be set on a copy of a slice from a DataFrame.\n",
      "Try using .loc[row_indexer,col_indexer] = value instead\n",
      "\n",
      "See the caveats in the documentation: https://pandas.pydata.org/pandas-docs/stable/user_guide/indexing.html#returning-a-view-versus-a-copy\n",
      "  df_filtered['score']=df_filtered.apply(product_score, axis=1)\n"
     ]
    }
   ],
   "source": [
    "df_filtered['score']=df_filtered.apply(product_score, axis=1)"
   ]
  },
  {
   "cell_type": "code",
   "execution_count": 56,
   "metadata": {},
   "outputs": [
    {
     "data": {
      "text/html": [
       "<div>\n",
       "<style scoped>\n",
       "    .dataframe tbody tr th:only-of-type {\n",
       "        vertical-align: middle;\n",
       "    }\n",
       "\n",
       "    .dataframe tbody tr th {\n",
       "        vertical-align: top;\n",
       "    }\n",
       "\n",
       "    .dataframe thead th {\n",
       "        text-align: right;\n",
       "    }\n",
       "</style>\n",
       "<table border=\"1\" class=\"dataframe\">\n",
       "  <thead>\n",
       "    <tr style=\"text-align: right;\">\n",
       "      <th></th>\n",
       "      <th>Number of Rating</th>\n",
       "      <th>Mean Rating</th>\n",
       "      <th>score</th>\n",
       "    </tr>\n",
       "    <tr>\n",
       "      <th>ProductId</th>\n",
       "      <th></th>\n",
       "      <th></th>\n",
       "      <th></th>\n",
       "    </tr>\n",
       "  </thead>\n",
       "  <tbody>\n",
       "    <tr>\n",
       "      <th>1304351475</th>\n",
       "      <td>16</td>\n",
       "      <td>3.562500</td>\n",
       "      <td>3.846412</td>\n",
       "    </tr>\n",
       "    <tr>\n",
       "      <th>3227001381</th>\n",
       "      <td>25</td>\n",
       "      <td>4.560000</td>\n",
       "      <td>4.405969</td>\n",
       "    </tr>\n",
       "    <tr>\n",
       "      <th>7535842801</th>\n",
       "      <td>17</td>\n",
       "      <td>4.470588</td>\n",
       "      <td>4.319961</td>\n",
       "    </tr>\n",
       "    <tr>\n",
       "      <th>7806397051</th>\n",
       "      <td>35</td>\n",
       "      <td>3.285714</td>\n",
       "      <td>3.544775</td>\n",
       "    </tr>\n",
       "    <tr>\n",
       "      <th>9746427962</th>\n",
       "      <td>41</td>\n",
       "      <td>4.609756</td>\n",
       "      <td>4.486407</td>\n",
       "    </tr>\n",
       "  </tbody>\n",
       "</table>\n",
       "</div>"
      ],
      "text/plain": [
       "            Number of Rating  Mean Rating     score\n",
       "ProductId                                          \n",
       "1304351475                16     3.562500  3.846412\n",
       "3227001381                25     4.560000  4.405969\n",
       "7535842801                17     4.470588  4.319961\n",
       "7806397051                35     3.285714  3.544775\n",
       "9746427962                41     4.609756  4.486407"
      ]
     },
     "execution_count": 56,
     "metadata": {},
     "output_type": "execute_result"
    }
   ],
   "source": [
    "df_filtered.head()\n"
   ]
  },
  {
   "cell_type": "markdown",
   "metadata": {},
   "source": [
    "Finally, we sort the dataframe based on the score feature, and we output the the top 10 popular products."
   ]
  },
  {
   "cell_type": "code",
   "execution_count": 57,
   "metadata": {},
   "outputs": [],
   "source": [
    "df_highscore=df_filtered.sort_values(by='score', ascending=False).head(10)"
   ]
  },
  {
   "cell_type": "code",
   "execution_count": 51,
   "metadata": {},
   "outputs": [],
   "source": [
    "df_filtered=df_rating[df_rating['Number of Rating']>df_rating['Number of Rating'].quantile(q=0.9)]"
   ]
  },
  {
   "cell_type": "code",
   "execution_count": 52,
   "metadata": {},
   "outputs": [
    {
     "data": {
      "text/plain": [
       "(23863, 2)"
      ]
     },
     "execution_count": 52,
     "metadata": {},
     "output_type": "execute_result"
    }
   ],
   "source": [
    "df_filtered.shape"
   ]
  },
  {
   "cell_type": "markdown",
   "metadata": {},
   "source": [
    "We see that there are 23863 products which qualify to be in this list."
   ]
  },
  {
   "cell_type": "code",
   "execution_count": 58,
   "metadata": {},
   "outputs": [
    {
     "data": {
      "text/html": [
       "<div>\n",
       "<style scoped>\n",
       "    .dataframe tbody tr th:only-of-type {\n",
       "        vertical-align: middle;\n",
       "    }\n",
       "\n",
       "    .dataframe tbody tr th {\n",
       "        vertical-align: top;\n",
       "    }\n",
       "\n",
       "    .dataframe thead th {\n",
       "        text-align: right;\n",
       "    }\n",
       "</style>\n",
       "<table border=\"1\" class=\"dataframe\">\n",
       "  <thead>\n",
       "    <tr style=\"text-align: right;\">\n",
       "      <th></th>\n",
       "      <th>Number of Rating</th>\n",
       "      <th>Mean Rating</th>\n",
       "      <th>score</th>\n",
       "    </tr>\n",
       "    <tr>\n",
       "      <th>ProductId</th>\n",
       "      <th></th>\n",
       "      <th></th>\n",
       "      <th></th>\n",
       "    </tr>\n",
       "  </thead>\n",
       "  <tbody>\n",
       "    <tr>\n",
       "      <th>B00GJX58PE</th>\n",
       "      <td>398</td>\n",
       "      <td>4.889447</td>\n",
       "      <td>4.862564</td>\n",
       "    </tr>\n",
       "    <tr>\n",
       "      <th>B00K7ER6LU</th>\n",
       "      <td>85</td>\n",
       "      <td>4.976471</td>\n",
       "      <td>4.852388</td>\n",
       "    </tr>\n",
       "    <tr>\n",
       "      <th>B00I46E8DC</th>\n",
       "      <td>172</td>\n",
       "      <td>4.912791</td>\n",
       "      <td>4.851544</td>\n",
       "    </tr>\n",
       "    <tr>\n",
       "      <th>B00F008GFQ</th>\n",
       "      <td>426</td>\n",
       "      <td>4.868545</td>\n",
       "      <td>4.844079</td>\n",
       "    </tr>\n",
       "    <tr>\n",
       "      <th>B002YFN49I</th>\n",
       "      <td>98</td>\n",
       "      <td>4.948980</td>\n",
       "      <td>4.842821</td>\n",
       "    </tr>\n",
       "    <tr>\n",
       "      <th>B00FPROWWU</th>\n",
       "      <td>79</td>\n",
       "      <td>4.962025</td>\n",
       "      <td>4.832327</td>\n",
       "    </tr>\n",
       "    <tr>\n",
       "      <th>B00IBS9QC6</th>\n",
       "      <td>239</td>\n",
       "      <td>4.874477</td>\n",
       "      <td>4.831649</td>\n",
       "    </tr>\n",
       "    <tr>\n",
       "      <th>B009OWSHQE</th>\n",
       "      <td>88</td>\n",
       "      <td>4.943182</td>\n",
       "      <td>4.827561</td>\n",
       "    </tr>\n",
       "    <tr>\n",
       "      <th>B004CNRDBU</th>\n",
       "      <td>58</td>\n",
       "      <td>5.000000</td>\n",
       "      <td>4.825189</td>\n",
       "    </tr>\n",
       "    <tr>\n",
       "      <th>B008DWSJ1O</th>\n",
       "      <td>123</td>\n",
       "      <td>4.894309</td>\n",
       "      <td>4.813324</td>\n",
       "    </tr>\n",
       "  </tbody>\n",
       "</table>\n",
       "</div>"
      ],
      "text/plain": [
       "            Number of Rating  Mean Rating     score\n",
       "ProductId                                          \n",
       "B00GJX58PE               398     4.889447  4.862564\n",
       "B00K7ER6LU                85     4.976471  4.852388\n",
       "B00I46E8DC               172     4.912791  4.851544\n",
       "B00F008GFQ               426     4.868545  4.844079\n",
       "B002YFN49I                98     4.948980  4.842821\n",
       "B00FPROWWU                79     4.962025  4.832327\n",
       "B00IBS9QC6               239     4.874477  4.831649\n",
       "B009OWSHQE                88     4.943182  4.827561\n",
       "B004CNRDBU                58     5.000000  4.825189\n",
       "B008DWSJ1O               123     4.894309  4.813324"
      ]
     },
     "execution_count": 58,
     "metadata": {},
     "output_type": "execute_result"
    }
   ],
   "source": [
    "df_highscore"
   ]
  },
  {
   "cell_type": "code",
   "execution_count": 61,
   "metadata": {},
   "outputs": [
    {
     "data": {
      "text/plain": [
       "Index(['B00GJX58PE', 'B00K7ER6LU', 'B00I46E8DC', 'B00F008GFQ', 'B002YFN49I',\n",
       "       'B00FPROWWU', 'B00IBS9QC6', 'B009OWSHQE', 'B004CNRDBU', 'B008DWSJ1O'],\n",
       "      dtype='object', name='ProductId')"
      ]
     },
     "execution_count": 61,
     "metadata": {},
     "output_type": "execute_result"
    }
   ],
   "source": [
    "df_highscore.index\n"
   ]
  },
  {
   "cell_type": "markdown",
   "metadata": {},
   "source": [
    "So the top 10 popular products that this model will recommend to users include:\n",
    "\n",
    "'B00GJX58PE', 'B00K7ER6LU', 'B00I46E8DC', 'B00F008GFQ', 'B002YFN49I',\n",
    " 'B00FPROWWU', 'B00IBS9QC6', 'B009OWSHQE', 'B004CNRDBU', 'B008DWSJ1O'.\n",
    "\n",
    "We should keep in mind that this popularity-based recommender provides a general chart of recommended products to all the users, regardless of the user's personal taste. It is not sensitive to the interests and tastes of a particular user, and it does not give personalized recommendations based on the users."
   ]
  },
  {
   "cell_type": "markdown",
   "metadata": {},
   "source": [
    "## Recommendation System - Part II\n",
    "### Model-based collaborative filtering system\n",
    "\n",
    "* Recommend items to users based on purchase history and similarity of ratings provided by other users who bought items to that of a particular customer.\n",
    "* A model based collaborative filtering technique is closen here as it helps in making predicting products for a particular user by identifying patterns based on preferences from multiple user data.\n",
    "\n",
    "\n",
    "* Surprise library is a Python scikit for building and analyzing recommender systems that deal with explicit rating data. Here we also use the Surprise library that uses extremely powerful algorithms like Singular Value Decomposition (SVD) to minimise Root Mean Square Error (RMSE) that is measured by Kfold Cross Validation and give great recommendations."
   ]
  },
  {
   "cell_type": "markdown",
   "metadata": {},
   "source": [
    "#### Utility Matrix based on products sold and user reviews\n",
    "**Utility Matrix : **An utlity matrix is consists of all possible user-item preferences (ratings) details represented as a matrix. The utility matrix is sparce as none of the users would buy all teh items in the list, hence, most of the values are unknown."
   ]
  },
  {
   "cell_type": "code",
   "execution_count": 96,
   "metadata": {},
   "outputs": [],
   "source": [
    "import surprise\n",
    "from surprise import KNNWithMeans\n",
    "from surprise.model_selection import GridSearchCV\n",
    "from surprise import Dataset\n",
    "from surprise import accuracy\n",
    "from surprise import Reader\n",
    "from surprise.model_selection import train_test_split\n",
    "%matplotlib inline\n",
    "from surprise import SVD, Reader, Dataset \n",
    "from surprise.model_selection import cross_validate"
   ]
  },
  {
   "cell_type": "code",
   "execution_count": 64,
   "metadata": {},
   "outputs": [],
   "source": [
    "from surprise import KNNBasic, SVD, NormalPredictor, KNNBaseline,KNNWithMeans, KNNWithZScore, BaselineOnly, CoClustering, Reader, dataset, accuracy"
   ]
  },
  {
   "cell_type": "markdown",
   "metadata": {},
   "source": [
    "Since data is too huge, due to that colab(free version) wasn't able to process it properly. So inorder to work properly a subset is taken which is top users who had given more than 50 ratings."
   ]
  },
  {
   "cell_type": "code",
   "execution_count": 72,
   "metadata": {},
   "outputs": [],
   "source": [
    "\n",
    "userID = amazon_ratings.groupby('UserId').count()"
   ]
  },
  {
   "cell_type": "code",
   "execution_count": 73,
   "metadata": {},
   "outputs": [],
   "source": [
    "top_user = userID[userID['Rating'] >= 50].index"
   ]
  },
  {
   "cell_type": "code",
   "execution_count": 74,
   "metadata": {},
   "outputs": [],
   "source": [
    "topuser_ratings_df = amazon_ratings[amazon_ratings['UserId'].isin(top_user)]"
   ]
  },
  {
   "cell_type": "code",
   "execution_count": 75,
   "metadata": {},
   "outputs": [
    {
     "data": {
      "text/html": [
       "<div>\n",
       "<style scoped>\n",
       "    .dataframe tbody tr th:only-of-type {\n",
       "        vertical-align: middle;\n",
       "    }\n",
       "\n",
       "    .dataframe tbody tr th {\n",
       "        vertical-align: top;\n",
       "    }\n",
       "\n",
       "    .dataframe thead th {\n",
       "        text-align: right;\n",
       "    }\n",
       "</style>\n",
       "<table border=\"1\" class=\"dataframe\">\n",
       "  <thead>\n",
       "    <tr style=\"text-align: right;\">\n",
       "      <th></th>\n",
       "      <th>UserId</th>\n",
       "      <th>ProductId</th>\n",
       "      <th>Rating</th>\n",
       "    </tr>\n",
       "  </thead>\n",
       "  <tbody>\n",
       "    <tr>\n",
       "      <th>5</th>\n",
       "      <td>AKJHHD5VEH7VG</td>\n",
       "      <td>0762451459</td>\n",
       "      <td>5.0</td>\n",
       "    </tr>\n",
       "    <tr>\n",
       "      <th>1779178</th>\n",
       "      <td>ACZ94JB8BFMJ9</td>\n",
       "      <td>B00A9MKPT0</td>\n",
       "      <td>5.0</td>\n",
       "    </tr>\n",
       "    <tr>\n",
       "      <th>1778023</th>\n",
       "      <td>A10G136JEISLVR</td>\n",
       "      <td>B00A8I8AVA</td>\n",
       "      <td>5.0</td>\n",
       "    </tr>\n",
       "    <tr>\n",
       "      <th>1778730</th>\n",
       "      <td>A1Z54EM24Y40LL</td>\n",
       "      <td>B00A8S6HM4</td>\n",
       "      <td>5.0</td>\n",
       "    </tr>\n",
       "    <tr>\n",
       "      <th>1778920</th>\n",
       "      <td>A2K7V3G4598QRF</td>\n",
       "      <td>B00A93VUEI</td>\n",
       "      <td>5.0</td>\n",
       "    </tr>\n",
       "  </tbody>\n",
       "</table>\n",
       "</div>"
      ],
      "text/plain": [
       "                 UserId   ProductId  Rating\n",
       "5         AKJHHD5VEH7VG  0762451459     5.0\n",
       "1779178   ACZ94JB8BFMJ9  B00A9MKPT0     5.0\n",
       "1778023  A10G136JEISLVR  B00A8I8AVA     5.0\n",
       "1778730  A1Z54EM24Y40LL  B00A8S6HM4     5.0\n",
       "1778920  A2K7V3G4598QRF  B00A93VUEI     5.0"
      ]
     },
     "execution_count": 75,
     "metadata": {},
     "output_type": "execute_result"
    }
   ],
   "source": [
    "topuser_ratings_df.sort_values(by='Rating', ascending=False).head()"
   ]
  },
  {
   "cell_type": "code",
   "execution_count": 77,
   "metadata": {},
   "outputs": [],
   "source": [
    "prodID = amazon_ratings.groupby('ProductId').count()"
   ]
  },
  {
   "cell_type": "code",
   "execution_count": 80,
   "metadata": {},
   "outputs": [],
   "source": [
    "top_prod = prodID[prodID['Rating'] >= 50].index"
   ]
  },
  {
   "cell_type": "code",
   "execution_count": 81,
   "metadata": {},
   "outputs": [],
   "source": [
    "top_ratings_df = topuser_ratings_df[topuser_ratings_df['ProductId'].isin(top_prod)]"
   ]
  },
  {
   "cell_type": "code",
   "execution_count": 82,
   "metadata": {},
   "outputs": [
    {
     "data": {
      "text/html": [
       "<div>\n",
       "<style scoped>\n",
       "    .dataframe tbody tr th:only-of-type {\n",
       "        vertical-align: middle;\n",
       "    }\n",
       "\n",
       "    .dataframe tbody tr th {\n",
       "        vertical-align: top;\n",
       "    }\n",
       "\n",
       "    .dataframe thead th {\n",
       "        text-align: right;\n",
       "    }\n",
       "</style>\n",
       "<table border=\"1\" class=\"dataframe\">\n",
       "  <thead>\n",
       "    <tr style=\"text-align: right;\">\n",
       "      <th></th>\n",
       "      <th>UserId</th>\n",
       "      <th>ProductId</th>\n",
       "      <th>Rating</th>\n",
       "    </tr>\n",
       "  </thead>\n",
       "  <tbody>\n",
       "    <tr>\n",
       "      <th>1717</th>\n",
       "      <td>A2FQZKL2KIZACO</td>\n",
       "      <td>9790790961</td>\n",
       "      <td>5.0</td>\n",
       "    </tr>\n",
       "    <tr>\n",
       "      <th>1436380</th>\n",
       "      <td>A2S7YBFPZX1IGQ</td>\n",
       "      <td>B005OZW3ZG</td>\n",
       "      <td>5.0</td>\n",
       "    </tr>\n",
       "    <tr>\n",
       "      <th>1435690</th>\n",
       "      <td>A1APERZNMEU8PW</td>\n",
       "      <td>B005OZGDO8</td>\n",
       "      <td>5.0</td>\n",
       "    </tr>\n",
       "    <tr>\n",
       "      <th>1435806</th>\n",
       "      <td>A1YVJ2CLK0L2WR</td>\n",
       "      <td>B005OZH88I</td>\n",
       "      <td>5.0</td>\n",
       "    </tr>\n",
       "    <tr>\n",
       "      <th>1435808</th>\n",
       "      <td>ADMPGWBF0BC9W</td>\n",
       "      <td>B005OZH88I</td>\n",
       "      <td>5.0</td>\n",
       "    </tr>\n",
       "  </tbody>\n",
       "</table>\n",
       "</div>"
      ],
      "text/plain": [
       "                 UserId   ProductId  Rating\n",
       "1717     A2FQZKL2KIZACO  9790790961     5.0\n",
       "1436380  A2S7YBFPZX1IGQ  B005OZW3ZG     5.0\n",
       "1435690  A1APERZNMEU8PW  B005OZGDO8     5.0\n",
       "1435806  A1YVJ2CLK0L2WR  B005OZH88I     5.0\n",
       "1435808   ADMPGWBF0BC9W  B005OZH88I     5.0"
      ]
     },
     "execution_count": 82,
     "metadata": {},
     "output_type": "execute_result"
    }
   ],
   "source": [
    "top_ratings_df.sort_values(by='Rating', ascending=False).head()"
   ]
  },
  {
   "cell_type": "code",
   "execution_count": 83,
   "metadata": {},
   "outputs": [
    {
     "data": {
      "text/plain": [
       "(13717, 3)"
      ]
     },
     "execution_count": 83,
     "metadata": {},
     "output_type": "execute_result"
    }
   ],
   "source": [
    "\n",
    "top_ratings_df.shape"
   ]
  },
  {
   "cell_type": "markdown",
   "metadata": {},
   "source": [
    "Here we can see the top rated products are 13717"
   ]
  },
  {
   "cell_type": "markdown",
   "metadata": {},
   "source": [
    "#### Conversion to surprise format"
   ]
  },
  {
   "cell_type": "code",
   "execution_count": 84,
   "metadata": {},
   "outputs": [],
   "source": [
    "\n",
    "reader = Reader(rating_scale=(0.5, 5.0))"
   ]
  },
  {
   "cell_type": "markdown",
   "metadata": {},
   "source": [
    "Dataset loading"
   ]
  },
  {
   "cell_type": "code",
   "execution_count": 85,
   "metadata": {},
   "outputs": [],
   "source": [
    "data = Dataset.load_from_df(top_ratings_df[['UserId', 'ProductId', 'Rating']],reader)"
   ]
  },
  {
   "cell_type": "markdown",
   "metadata": {},
   "source": [
    "#### Model training"
   ]
  },
  {
   "cell_type": "code",
   "execution_count": 86,
   "metadata": {},
   "outputs": [],
   "source": [
    "from surprise.model_selection import train_test_split\n",
    "trainset, testset = train_test_split(data, test_size=.3,random_state=0)"
   ]
  },
  {
   "cell_type": "code",
   "execution_count": 87,
   "metadata": {},
   "outputs": [
    {
     "data": {
      "text/plain": [
       "surprise.trainset.Trainset"
      ]
     },
     "execution_count": 87,
     "metadata": {},
     "output_type": "execute_result"
    }
   ],
   "source": [
    "\n",
    "type(trainset)"
   ]
  },
  {
   "cell_type": "markdown",
   "metadata": {},
   "source": [
    "#### KNN with means"
   ]
  },
  {
   "cell_type": "code",
   "execution_count": 88,
   "metadata": {},
   "outputs": [
    {
     "name": "stdout",
     "output_type": "stream",
     "text": [
      "Estimating biases using als...\n",
      "Computing the pearson_baseline similarity matrix...\n",
      "Done computing similarity matrix.\n"
     ]
    },
    {
     "data": {
      "text/plain": [
       "<surprise.prediction_algorithms.knns.KNNWithMeans at 0x2f238159850>"
      ]
     },
     "execution_count": 88,
     "metadata": {},
     "output_type": "execute_result"
    }
   ],
   "source": [
    "model = KNNWithMeans(k=10, min_k=6, sim_options={'name': 'pearson_baseline', 'user_based': True})\n",
    "model.fit(trainset)"
   ]
  },
  {
   "cell_type": "markdown",
   "metadata": {},
   "source": [
    "### SVD"
   ]
  },
  {
   "cell_type": "code",
   "execution_count": 193,
   "metadata": {},
   "outputs": [],
   "source": [
    "svd = SVD()"
   ]
  },
  {
   "cell_type": "code",
   "execution_count": 194,
   "metadata": {},
   "outputs": [],
   "source": [
    "reader = Reader()"
   ]
  },
  {
   "cell_type": "code",
   "execution_count": 195,
   "metadata": {},
   "outputs": [
    {
     "name": "stdout",
     "output_type": "stream",
     "text": [
      "Evaluating RMSE, MAE of algorithm SVD on 5 split(s).\n",
      "\n",
      "                  Fold 1  Fold 2  Fold 3  Fold 4  Fold 5  Mean    Std     \n",
      "RMSE (testset)    1.0256  1.0031  1.0514  1.0049  0.9968  1.0164  0.0200  \n",
      "MAE (testset)     0.7880  0.7697  0.7966  0.7741  0.7644  0.7786  0.0119  \n",
      "Fit time          0.08    0.07    0.08    0.09    0.10    0.09    0.01    \n",
      "Test time         0.02    0.02    0.02    0.02    0.02    0.02    0.00    \n"
     ]
    },
    {
     "data": {
      "text/plain": [
       "{'test_rmse': array([1.02564675, 1.00307169, 1.05141812, 1.00488318, 0.99676726]),\n",
       " 'test_mae': array([0.78803342, 0.76968707, 0.79655694, 0.77414787, 0.76435677]),\n",
       " 'fit_time': (0.08107352256774902,\n",
       "  0.0740668773651123,\n",
       "  0.07807135581970215,\n",
       "  0.094085693359375,\n",
       "  0.10109210014343262),\n",
       " 'test_time': (0.02302098274230957,\n",
       "  0.02302098274230957,\n",
       "  0.024021387100219727,\n",
       "  0.02402186393737793,\n",
       "  0.02402210235595703)}"
      ]
     },
     "execution_count": 195,
     "metadata": {},
     "output_type": "execute_result"
    }
   ],
   "source": [
    "cross_validate(svd, data, measures=['RMSE', 'MAE'], cv=5, verbose=True)"
   ]
  },
  {
   "cell_type": "markdown",
   "metadata": {},
   "source": [
    "We get a mean Root Mean Sqaure Error of 1.0 approx which is good enough for our case. Let us now train on our dataset and arrive at predictions."
   ]
  },
  {
   "cell_type": "code",
   "execution_count": 196,
   "metadata": {},
   "outputs": [],
   "source": [
    "trainset = data.build_full_trainset()"
   ]
  },
  {
   "cell_type": "code",
   "execution_count": 197,
   "metadata": {},
   "outputs": [
    {
     "data": {
      "text/plain": [
       "<surprise.prediction_algorithms.matrix_factorization.SVD at 0x2f28f24a5b0>"
      ]
     },
     "execution_count": 197,
     "metadata": {},
     "output_type": "execute_result"
    }
   ],
   "source": [
    "svd.fit(trainset)"
   ]
  },
  {
   "cell_type": "markdown",
   "metadata": {},
   "source": [
    "Let us pick the user with userId of 'AKM1MP6P0OYPR' and check the ratings she/he has given so far to different products."
   ]
  },
  {
   "cell_type": "code",
   "execution_count": 198,
   "metadata": {},
   "outputs": [
    {
     "data": {
      "text/html": [
       "<div>\n",
       "<style scoped>\n",
       "    .dataframe tbody tr th:only-of-type {\n",
       "        vertical-align: middle;\n",
       "    }\n",
       "\n",
       "    .dataframe tbody tr th {\n",
       "        vertical-align: top;\n",
       "    }\n",
       "\n",
       "    .dataframe thead th {\n",
       "        text-align: right;\n",
       "    }\n",
       "</style>\n",
       "<table border=\"1\" class=\"dataframe\">\n",
       "  <thead>\n",
       "    <tr style=\"text-align: right;\">\n",
       "      <th></th>\n",
       "      <th>UserId</th>\n",
       "      <th>ProductId</th>\n",
       "      <th>Rating</th>\n",
       "    </tr>\n",
       "  </thead>\n",
       "  <tbody>\n",
       "    <tr>\n",
       "      <th>107823</th>\n",
       "      <td>A1APERZNMEU8PW</td>\n",
       "      <td>B000662MYK</td>\n",
       "      <td>5.0</td>\n",
       "    </tr>\n",
       "    <tr>\n",
       "      <th>214884</th>\n",
       "      <td>A1APERZNMEU8PW</td>\n",
       "      <td>B000CED0VK</td>\n",
       "      <td>5.0</td>\n",
       "    </tr>\n",
       "    <tr>\n",
       "      <th>286352</th>\n",
       "      <td>A1APERZNMEU8PW</td>\n",
       "      <td>B000HM5LHI</td>\n",
       "      <td>5.0</td>\n",
       "    </tr>\n",
       "    <tr>\n",
       "      <th>458980</th>\n",
       "      <td>A1APERZNMEU8PW</td>\n",
       "      <td>B000VWQAXS</td>\n",
       "      <td>4.0</td>\n",
       "    </tr>\n",
       "    <tr>\n",
       "      <th>467230</th>\n",
       "      <td>A1APERZNMEU8PW</td>\n",
       "      <td>B000WNLFBI</td>\n",
       "      <td>5.0</td>\n",
       "    </tr>\n",
       "    <tr>\n",
       "      <th>...</th>\n",
       "      <td>...</td>\n",
       "      <td>...</td>\n",
       "      <td>...</td>\n",
       "    </tr>\n",
       "    <tr>\n",
       "      <th>1742895</th>\n",
       "      <td>A1APERZNMEU8PW</td>\n",
       "      <td>B009L11BPC</td>\n",
       "      <td>5.0</td>\n",
       "    </tr>\n",
       "    <tr>\n",
       "      <th>1747960</th>\n",
       "      <td>A1APERZNMEU8PW</td>\n",
       "      <td>B009P0K7M2</td>\n",
       "      <td>5.0</td>\n",
       "    </tr>\n",
       "    <tr>\n",
       "      <th>1747977</th>\n",
       "      <td>A1APERZNMEU8PW</td>\n",
       "      <td>B009P0KDBC</td>\n",
       "      <td>5.0</td>\n",
       "    </tr>\n",
       "    <tr>\n",
       "      <th>1783972</th>\n",
       "      <td>A1APERZNMEU8PW</td>\n",
       "      <td>B00AD9R6DM</td>\n",
       "      <td>5.0</td>\n",
       "    </tr>\n",
       "    <tr>\n",
       "      <th>1970373</th>\n",
       "      <td>A1APERZNMEU8PW</td>\n",
       "      <td>B00GMP8GAS</td>\n",
       "      <td>5.0</td>\n",
       "    </tr>\n",
       "  </tbody>\n",
       "</table>\n",
       "<p>84 rows × 3 columns</p>\n",
       "</div>"
      ],
      "text/plain": [
       "                 UserId   ProductId  Rating\n",
       "107823   A1APERZNMEU8PW  B000662MYK     5.0\n",
       "214884   A1APERZNMEU8PW  B000CED0VK     5.0\n",
       "286352   A1APERZNMEU8PW  B000HM5LHI     5.0\n",
       "458980   A1APERZNMEU8PW  B000VWQAXS     4.0\n",
       "467230   A1APERZNMEU8PW  B000WNLFBI     5.0\n",
       "...                 ...         ...     ...\n",
       "1742895  A1APERZNMEU8PW  B009L11BPC     5.0\n",
       "1747960  A1APERZNMEU8PW  B009P0K7M2     5.0\n",
       "1747977  A1APERZNMEU8PW  B009P0KDBC     5.0\n",
       "1783972  A1APERZNMEU8PW  B00AD9R6DM     5.0\n",
       "1970373  A1APERZNMEU8PW  B00GMP8GAS     5.0\n",
       "\n",
       "[84 rows x 3 columns]"
      ]
     },
     "execution_count": 198,
     "metadata": {},
     "output_type": "execute_result"
    }
   ],
   "source": [
    "amazon_ratings[amazon_ratings['UserId'] == 'A1APERZNMEU8PW']"
   ]
  },
  {
   "cell_type": "markdown",
   "metadata": {},
   "source": [
    "As an example, we use the algorithm to predict the score that might be given to the productId of '0970407998' by this specific userId."
   ]
  },
  {
   "cell_type": "code",
   "execution_count": 225,
   "metadata": {},
   "outputs": [
    {
     "data": {
      "text/plain": [
       "Prediction(uid='A17HMM1M7T9PJ1', iid='0970407998', r_ui=None, est=4.120871910767661, details={'was_impossible': False})"
      ]
     },
     "execution_count": 225,
     "metadata": {},
     "output_type": "execute_result"
    }
   ],
   "source": [
    "svd.predict(uid='A17HMM1M7T9PJ1', iid='0970407998', r_ui=None)"
   ]
  },
  {
   "cell_type": "code",
   "execution_count": 226,
   "metadata": {},
   "outputs": [
    {
     "data": {
      "text/plain": [
       "4.120871910767661"
      ]
     },
     "execution_count": 226,
     "metadata": {},
     "output_type": "execute_result"
    }
   ],
   "source": [
    "svd.predict(uid='A17HMM1M7T9PJ1', iid='0970407998', r_ui=None).est"
   ]
  },
  {
   "cell_type": "markdown",
   "metadata": {},
   "source": [
    "Our model predicts that userId of 'A17HMM1M7T9PJ1' will give 4.12 as the rating for productId of '0970407998'."
   ]
  },
  {
   "cell_type": "markdown",
   "metadata": {},
   "source": [
    "#### Hyper Parameter Tuning of SVD model"
   ]
  },
  {
   "cell_type": "code",
   "execution_count": 220,
   "metadata": {},
   "outputs": [],
   "source": [
    "from surprise.model_selection import GridSearchCV\n",
    "param_grid = {'n_factors' : [5,10,15], \"reg_all\":[0.01,0.02]}\n",
    "gs = GridSearchCV(SVD, param_grid, measures=['rmse'], cv=3,refit = True)"
   ]
  },
  {
   "cell_type": "code",
   "execution_count": 221,
   "metadata": {},
   "outputs": [],
   "source": [
    "gs.fit(data)"
   ]
  },
  {
   "cell_type": "code",
   "execution_count": 222,
   "metadata": {},
   "outputs": [
    {
     "data": {
      "text/plain": [
       "{'rmse': {'n_factors': 5, 'reg_all': 0.02}}"
      ]
     },
     "execution_count": 222,
     "metadata": {},
     "output_type": "execute_result"
    }
   ],
   "source": [
    "gs.best_params"
   ]
  },
  {
   "cell_type": "code",
   "execution_count": 223,
   "metadata": {},
   "outputs": [
    {
     "name": "stdout",
     "output_type": "stream",
     "text": [
      "RMSE: 0.8962\n"
     ]
    },
    {
     "data": {
      "text/plain": [
       "0.8961906299073964"
      ]
     },
     "execution_count": 223,
     "metadata": {},
     "output_type": "execute_result"
    }
   ],
   "source": [
    "# Use the \"best model\" for prediction\n",
    "gs.test(testset)\n",
    "accuracy.rmse(gs.test(testset))"
   ]
  },
  {
   "cell_type": "markdown",
   "metadata": {},
   "source": [
    "The RMSE value of collaborative model, at first by KNNwithmeans is 1.05 and with SVD is 1.01. On further tuning of SVD model we got <b>RMSE of SVD model as 0.896 which is much better."
   ]
  },
  {
   "cell_type": "markdown",
   "metadata": {},
   "source": [
    "### Recommending 5 Products."
   ]
  },
  {
   "cell_type": "code",
   "execution_count": 227,
   "metadata": {},
   "outputs": [],
   "source": [
    "from collections import defaultdict\n",
    "def get_top_n(predictions, n=5):\n",
    "  \n",
    "    # First map the predictions to each user.\n",
    "    top_n = defaultdict(list)\n",
    "    for uid, iid, true_r, est, _ in predictions:\n",
    "        top_n[uid].append((iid, est))\n",
    "\n",
    "    # Then sort the predictions for each user and retrieve the k highest ones.\n",
    "    for uid, user_ratings in top_n.items():\n",
    "        user_ratings.sort(key=lambda x: x[1], reverse=True)\n",
    "        top_n[uid] = user_ratings[:n]\n",
    "\n",
    "    return top_n"
   ]
  },
  {
   "cell_type": "code",
   "execution_count": 228,
   "metadata": {},
   "outputs": [],
   "source": [
    "top_n = get_top_n(test_pred, n=5)"
   ]
  },
  {
   "cell_type": "code",
   "execution_count": 229,
   "metadata": {},
   "outputs": [
    {
     "name": "stdout",
     "output_type": "stream",
     "text": [
      "A25C2M3QF9G7OQ ['B00GTC0DFK', 'B008VSYO5A', 'B006L6A06Q', 'B009FKNGRA', 'B009YSSLAU']\n",
      "AY3D7DG5L5WCK ['B00AE078TM', 'B00A0J09C0', 'B00AWLB9G6', 'B00AAIOP44', 'B002MO9BW0']\n",
      "A2DPYMNI2HCIOI ['B0002VQ0WO', 'B00AE078YM', 'B008RVYJS8', 'B0014AX89K', 'B00014D5O8']\n",
      "A2Y4S4CNGKF21S ['B000C1W6TK', 'B000U4WNC4', 'B000052YJX', 'B0009PVV36', 'B001H54SQ4']\n",
      "AYB4ELCS5AM8P ['B00GTC1HB4', 'B00A0J084Y', 'B001ECQ55M', 'B00GTC1HCI', 'B004GIM68G']\n",
      "A3GPAR4H5Y5OU8 ['B0037LKIAG', 'B0040PDKPI', 'B000GUN98O', 'B001JQLNNC', 'B001S48HLG']\n",
      "A3IOCPLIMYDBCD ['B000ASDGK8', 'B003156NMU', 'B003V265QW', 'B002QXINAS', 'B00365DABC']\n",
      "ALNFHVS3SC4FV ['B009YSSLAU', 'B00AE07BI0', 'B00AE07BMQ', 'B003V21WO2', 'B00AWLB9I4']\n",
      "AQY5XBYSENNZQ ['B009FKNGGQ', 'B00AE0790U', 'B00GTBZHUW', 'B002MO780W', 'B00GYB17TC']\n",
      "A3091RP0SPZLMN ['B00ALV8EJM', 'B00GTC02LA', 'B00AE07FUE', 'B00AE07CTI', 'B002MO3CG6']\n",
      "A3AZI828WJN1CD ['B009VGNYFM', 'B00A0IWRRG', 'B00GYB17XI', 'B007WFZ0XI', 'B009G0E19Q']\n",
      "A2XKJ1KX6XUHYP ['B006OC431K', 'B000851N9E', 'B000ORV3NC', 'B0013YYNDM', 'B000I5KCIW']\n",
      "A3FBM0RMCMAABV ['B007JT7AGC', 'B00AWLBACE', 'B0040H00PE', 'B00AWLB9G6', 'B007RTR8UC']\n",
      "A3IQXED40ZZ2T2 ['B00K2O3NV2', 'B00IBS9QC6', 'B00EYSNWXG', 'B00GCQMSVA', 'B00KHGIK54']\n",
      "A16YU3GRGCD95S ['B00ALV8EL0', 'B00AE07FUE', 'B00A0IWTDI', 'B00AWLB9I4', 'B001ECQ4OY']\n",
      "A33AQPJYH7UUXR ['B001M7SIFY', 'B0006ZHCK0', 'B0018V1DWE', 'B000052YMR', 'B004I5RU2Y']\n",
      "ACN76NFHYL6JK ['B002DPUY10', 'B000Q4B108', 'B005Z446JC', 'B0016B5LAQ']\n",
      "A2V5R832QCSOMX ['B002WTC38O', 'B000ILKUZ6', 'B001SERK9G', 'B00C67E3GW', 'B001MA5VUQ']\n",
      "A3FLMF8FG4VPG8 ['B0043OYFKU', 'B00387F42G', 'B001B7GJ2E', 'B0036BI56G', 'B000JIN0OG']\n",
      "A1DH3QDZX8Z7GO ['B000E0K7NQ', 'B00A0J09C0', 'B0089JVDPK', 'B00AE07IEM', 'B00106AC06']\n",
      "A34QKW1Y84EHIT ['B004LV82JU', 'B000TAA9Q6', 'B001T8JLRK', 'B000142JDG']\n",
      "A31RULW0KNYJ5H ['B00A0J09G6', 'B00A0IWSIO', 'B00GTC1FFW', 'B00A0IWRU8', 'B009YSSLAU']\n",
      "A14E70DKB6QPZY ['B000GHYSL4', 'B008BS9Z8G', 'B000HGMVH2', 'B0029ERWH4', 'B000AMHWCW']\n",
      "A2J19U8H5SSFCJ ['B00EA4MHN0', 'B0010XUU9M', 'B007RTR9FQ', 'B00AE07CRA', 'B0047F9622']\n",
      "A2065HBMYDXJ1S ['B00A0IWTEW', 'B00A0J084Y', 'B00A0IWRUI', 'B008SPOKIW', 'B0052BHMOO']\n",
      "A3EPHBMU07LZ50 ['B009FKNGRA', 'B000AO2NXS', 'B00AE07FQI', 'B00AE07GX0', 'B001D0ACUE']\n",
      "A3R5GTYQ50QVMD ['B00GTC02LA', 'B00GYB17TC', 'B00AO4EL34', 'B00GTC1FFW', 'B0040H00PE']\n",
      "A1W415JP5WEAJK ['B008U2Y9BQ', 'B001ECQ4OY', 'B004GIM68G', 'B007JT7AIK', 'B004D267RG']\n",
      "A2CZ98V784SRJ0 ['B00AE0790U', 'B00AE07GX0', 'B0051E3426', 'B00AE07BMQ', 'B00A0IWTBA']\n",
      "AAA0TUKS5VBSA ['B00A0J09G6', 'B00A0J09C0', 'B00AE07B9O', 'B007RTR8T8', 'B008VSYO5A']\n",
      "AAEVYY0PHQUUL ['B002SWAFVM', 'B002DOO1VA', 'B008R56PVI', 'B0032DHP6O', 'B0034KYDTM']\n",
      "A12PH6L5QSVTYN ['B0009OAIIG', 'B001DK9RQE', 'B000C1VWCM', 'B00005V5P6', 'B002CMLHF6']\n",
      "A390XPHE9J7DBO ['B00FFANXMM', 'B00IT1HKV4', 'B00DCF7QW0', 'B000C21AC8']\n",
      "A2ILV6IPPW6W7I ['B006ZBKH2Y', 'B000PNXBU8', 'B000146LKS', 'B006ZENPYS', 'B0050RY36K']\n",
      "AFHYEO3Y1IIDD ['B00ALV8EJM', 'B0050QJ0S2', 'B004LUZ956', 'B00GYB1AQM', 'B003V21WO2']\n",
      "A3MUSWDCTZINQZ ['B00AO4E9MC', 'B00AE078YM', 'B005TI7L7I', 'B00A0J09C0', 'B00GTC02LA']\n",
      "A3BMI7VGJT60Y7 ['B004TSFBNK', 'B002SV0XYW', 'B004ITB3IW', 'B000RRKCVS', 'B002CL6D56']\n",
      "A2B2I5JO3E8LBX ['B009WLXABE', 'B005PZ2PNK', 'B006L1DNWY', 'B00ANL6RDU', 'B007BJ3KQ4']\n",
      "A1DCBQD9QX2I3J ['B005KCAGEI', 'B0046MK34G', 'B000PQDKU6', 'B000PZ8E62', 'B000142FVW']\n",
      "A22ZFXQE8AWPEP ['B003FPE7MY', 'B0031B51Y0', 'B00DHOET6W', 'B006WVCF18']\n",
      "A89ZZKNDFQH23 ['B009YSSLAU', 'B009FKNGRA', 'B00GLS5938', 'B0027CT5TG', 'B00639DLV2']\n",
      "A22CW0ZHY3NJH8 ['B000AO2NXS', 'B00AE07FQI', 'B00A0IWSN4', 'B009FKNGGQ', 'B0050JD7I8']\n",
      "A3TMBYDFP1B9DM ['B0019N6RFO', 'B0063TFLG0', 'B007TLJP2W', 'B009FKNGRA', 'B0040H00PE']\n",
      "A2AEQSSI637PJ0 ['B0001TMDF0', 'B0090UJFYI', 'B004TSFE6Y', 'B0092SVTGA', 'B0008F6ZDI']\n",
      "A2R6RA8FRBS608 ['B00A0IWTDI', 'B00AE07B9O', 'B0063A432W', 'B0006ZHCK0', 'B000UPXU2A']\n",
      "A1EAX5HVYV96EF ['B004YBW5T0', 'B0036Q4RZE', 'B0036I8BPE', 'B003VI0HVA', 'B002XA00FU']\n",
      "A9MYCYZT8EMMX ['B000142C1A', 'B002GENWU8', 'B000PHZ26K', 'B001B7MAU4']\n",
      "AZ26CDSJ363AH ['B00AO4EMKQ', 'B005KJ35D0', 'B0012XO2W6']\n",
      "A30YBYLNRPOEG2 ['B00187OEWO', 'B000REOEYM', 'B000U5O650', 'B000BB9L0S', 'B0030HAF4G']\n",
      "A1M1Y5UGONAW06 ['B001DBPZQE', 'B007RTR89S', 'B00GYB17P6', 'B004FKD3HI', 'B009GIOVKC']\n",
      "A3RRNV5GDJ4SLW ['B0041JIANA', 'B005356O34', 'B000TAVKUK', 'B000ZMBSPE', 'B003MJ7Z0O']\n",
      "A100WO06OQR8BQ ['B002MO3CG6', 'B00A0J09C0', 'B000PY15I2', 'B000YZJMHS', 'B0089JVEOK']\n",
      "AK7CAW3N1XZV6 ['B003156NFW', 'B0002G21GI', 'B000R1RKVY', 'B0000536M3', 'B000052YJX']\n",
      "A1F7YU6O5RU432 ['B00AAJTDLI', 'B00AE07FXQ', 'B00GYB17P6', 'B00ATY942M', 'B00A0IWRT4']\n",
      "A132ETQPMHQ585 ['B000KONYPY', 'B000KONYJK', 'B0001ZYLAO', 'B000C1Z4XA', 'B003IU9HI0']\n",
      "A2P739KOM4U5JB ['B00AO4E9E0', 'B00AO4E9MC', 'B00EF1QRMU', 'B00AWLBAE2', 'B00AE07FUE']\n",
      "A22QOZZLLIMW6I ['B000H88QOM', 'B008RTNSJQ', 'B003FBI9LS', 'B007Q0WW0S', 'B003UNP20W']\n",
      "A18JF0T0GOCORW ['B009LOJ5MA', 'B00G052NFE', 'B00GPWYF94', 'B00GM6H9BO', 'B00FFANXMM']\n",
      "A1Z54EM24Y40LL ['B0039NMCPG', 'B00005304H', 'B00GTC1JHQ', 'B00GYB17XI', 'B001FWXJ4G']\n",
      "A11I1I9QLMAM1A ['B001ECQ55M', 'B00A0IWRT4', 'B00GTC1HCI', 'B005TI7NQ2', 'B0058L24O6']\n",
      "A3U5RYD678A4LL ['B001JQLNNC', 'B001ARQWW2', 'B0000CC64W', 'B006DR2BO2']\n",
      "A2C58G8O40YC7T ['B003QUONE0', 'B0043IX95I', 'B0007506U2', 'B0030HAE2Y', 'B000052YOX']\n",
      "A2YKWYC3WQJX5J ['B00GTBZXTC', 'B00A0J09G6', 'B009YSSLAU', 'B00AWLBAE2', 'B006L6A10G']\n",
      "A3M174IC0VXOS2 ['B00FF5B31U', 'B00021C5Y6', 'B000V2J3ZK', 'B004INUWX0', 'B005TI7L6O']\n",
      "A2EBR70V6P9W0N ['B001ET6XNO', 'B007DGRT3K', 'B00016XJ4M', 'B000OLE7V8', 'B002L6NZHG']\n",
      "A1I6U5AQAT3ZG9 ['B00AWLBACE', 'B00A0J084Y', 'B00AWLB9I4', 'B00GTC0E1I', 'B00A0IWRU8']\n",
      "A1P1O16N3ROSUY ['B004IM0KYM', 'B007O7AZ3O', 'B007SD28UM', 'B001T0HHDS', 'B007Q22HMY']\n",
      "A2KUUIJ52MWDAS ['B0027CT5TG', 'B0073P01RC', 'B004BYUQG4', 'B004D268RA', 'B002AMUIBM']\n",
      "A2F09EWKV3MTO2 ['B0039UTO3M', 'B009FKNGRA', 'B00C64GX4K', 'B00GTC0IY6', 'B009FKNGGQ']\n",
      "AOTMP0OKJOUWI ['B005TI7NQW', 'B005TI7NPI', 'B00A0J09G6', 'B00A0J084Y', 'B009XRF9M0']\n",
      "A2BYV7S1QP2YIG ['B001T8S7T8', 'B00GW1HKHW', 'B00JTY6WQ4', 'B00092M2ZU', 'B004CASKMO']\n",
      "A3I3BI5PFL3MSH ['B000P6I3WG', 'B004C7U9GW', 'B000J41MNG', 'B00005A9WP']\n",
      "A3KEZLJ59C1JVH ['B002XITY36', 'B000P3X8HY', 'B000C1UCTQ', 'B000ZOFUOC', 'B002LSTMB2']\n",
      "A2V92F5R7MLCVI ['B00ALV8EL0', 'B00AO379NE', 'B007JT7AIA', 'B00GTBZI6A', 'B00A0J084Y']\n",
      "A3CG93783LP0FO ['B00AO4EMKQ', 'B00A0IWSN4', 'B0067JF88M', 'B0057RIM5G', 'B00A0IWRRG']\n",
      "A1047EDJ84IMAS ['B000H3CPE4', 'B003VMFITM', 'B004D5BO8A', 'B000127UUA', 'B000S0CKRS']\n",
      "A2VPPEVTCQ922W ['B002XQ1QZM', 'B000C1ZFBG', 'B00021AK4I', 'B001HTTBWQ', 'B000XE5260']\n",
      "AEC90GPFKLAAW ['B005TI7L7I', 'B005TI7NQW', 'B00GUTLC0C', 'B00AFCP6F2', 'B003AVNLP2']\n",
      "A24TCT2CY6KY68 ['B006UETDGC', 'B002LFLPEC', 'B0000530ED', 'B004X1QKO2', 'B001H9275Y']\n",
      "A1YMXGQQT7YWMN ['B006ZA0A5Y', 'B00563K6VO', 'B001CPM03C', 'B002WTC37A', 'B001QOGXOG']\n",
      "A1X3ESYZ79H59E ['B0072XUY7W', 'B00AO379NE', 'B00ALV8EJM', 'B00HM6K6XQ', 'B00ATY942M']\n",
      "A2D2XKSXEG3O7F ['B006ZENPYS', 'B000GDC4J6', 'B0013JHGPO', 'B000GDF48Y', 'B004Z209HS']\n",
      "A2MUGFV2TDQ47K ['B00AWLBACE', 'B00AWLB9G6', 'B005TI7L7I', 'B000MANVXG', 'B001KYW7KQ']\n",
      "A27FP0S5QH7GNE ['B00021C1LI', 'B000VI1186', 'B001RMP7M6', 'B003YUDRNK', 'B005MG86TY']\n",
      "A3U029B8Z5WGI2 ['B006L6A06Q', 'B00GTC1FFW', 'B00AE07EGO', 'B00GTBZHUW', 'B00AE078TM']\n",
      "A1DAFWS98LQD2R ['B001JQLNNC', 'B000248HLI', 'B000142C1A', 'B004JLGC12', 'B001GNBW0W']\n",
      "A3J1XDOKRNRA6M ['B000GCVZSI', 'B006PEL7A2', 'B0011DRT9K', 'B001E919LU', 'B001F51PXA']\n",
      "A3094EPI56GKZ6 ['B006L6A06Q', 'B00AN5L8IU', 'B00AO4EL34', 'B00HM6K6XQ', 'B007RTR8TS']\n",
      "A2256XQAA1L8V8 ['B002BWOXYE', 'B001FB5NTG', 'B003JT4S7U', 'B000OZI8HS', 'B0009F3OS6']\n",
      "A27OTTW1CSOYWX ['B001DBPZQE', 'B00D76IRXQ', 'B008DF54K0', 'B002S8PU02', 'B00150LT40']\n",
      "A2YW1MG1GKU8XD ['B00AWLB9G6', 'B0072XRJ20', 'B00A0J09C0', 'B00AE078TM', 'B00GTBZWPW']\n",
      "A3AYSYSLHU26U9 ['B00A0IWSN4', 'B00H93NJLS', 'B00AO4EL34', 'B00A0IWRU8', 'B003V265QW']\n",
      "AXK3KYH8NQ9G2 ['B004TSFBNK', 'B006WVCF40', 'B007RTR8A2', 'B007RTR8TS', 'B0014L29RQ']\n",
      "AQ6AGWKWMTY8H ['B000AO2NXS', 'B00604MSSC', 'B00GTC03AU', 'B00070QF20', 'B0000Y3DAK']\n",
      "A19UTUEBWKIZFT ['B00A0IWRU8', 'B00A0IWTEW', 'B00GYB17P6', 'B00AO4EBOI', 'B00AE0790U']\n",
      "A9J5SLYXUCWO1 ['B001LNTNGC', 'B006X1DCFK', 'B00121UVU0', 'B003S5LWRO', 'B00FDK0V4M']\n",
      "A3BFDEBT5IV4UN ['B00HSNWXVQ', 'B00AWLB9G6', 'B007RTR8T8', 'B00AE078TM', 'B00A0IWRRG']\n",
      "A2AVOVUTRTABTX ['B003UH0528', 'B000PBQ7LK', 'B00021DUM2', 'B00198ZPU2', 'B006L16BHS']\n",
      "A2G3V7O4WP5F36 ['B00F4TQ49I', 'B004ZMCUIO', 'B004Y9GTYE', 'B00CK8RXUK']\n",
      "A281NPSIMI1C2R ['B000F63TW0', 'B000YZGPKU', 'B00639DLV2', 'B00013YYS0', 'B0098JU8T2']\n",
      "A1Q1Z7IR79G52A ['B00G052NFE', 'B00IT69F62', 'B00J5D8BY0', 'B00DJQQEGQ', 'B00DLRNSSK']\n",
      "A2SH7OWE8QJYNC ['B000I5MJ8S', 'B000X040QW', 'B001E6G6FC', 'B003FKSVMG']\n",
      "AKMEY1BSHSDG7 ['B00A0IWTEW', 'B00AWLB9G6', 'B00ALV8EKQ', 'B005OKPZR4', 'B003FKSVMG']\n",
      "A2OCDK0BOW6UCY ['B00AWLB9G6', 'B00AWLB9I4', 'B00AE07FXQ', 'B00AHF1GK6', 'B00AHF1GTM']\n",
      "AB24Z8PTNQ33I ['B002WJOOIQ', 'B000Q7XDR4', 'B006BES3LC']\n",
      "A7T2VY28U2IDB ['B005K0DO8A', 'B000HEIRRM', 'B000NBIRII', 'B0002Z8SZW', 'B002G1N8KA']\n",
      "A1YRCEF0HM8QVR ['B005HO0A1I', 'B001S4C91K', 'B000F8HWXU', 'B0000530ED', 'B0019I83N8']\n",
      "A35LT14WG5BX0T ['B00AWLB9I4', 'B002MO3CG6', 'B00AO4E9MC', 'B00AE07GX0', 'B00AO4EL34']\n",
      "A2JR5ZTSYSIQYX ['B0081CWUD4', 'B0039OVDJ6', 'B005LQRYKM']\n",
      "A2F4FJ3BIZ68GJ ['B005BF1M10', 'B008H42554', 'B005PZ2PNK', 'B0056FL4FY', 'B006T8T0P8']\n",
      "ACJT8MUC0LRF0 ['B005TI7NPI', 'B005TI7NQW', 'B00A0IWRT4', 'B00AHF1GK6', 'B001ECQ4JE']\n",
      "A6QG9LM5WL0AQ ['B006L6A10G', 'B00AE07GX0', 'B00BB8ZHIU', 'B00IP42FBA', 'B009HKAWFC']\n",
      "A34BZM6S9L7QI4 ['B00AWLB9G6', 'B00IP42FBA', 'B00A0IWTEW', 'B00AE078TM', 'B00AE07EGO']\n",
      "A2LW5AL0KQ9P1M ['B008HBMQTM', 'B00GTC0E1I', 'B00AE0790U', 'B00AHF1GK6', 'B00ALV8EJM']\n",
      "A5GPH59NDWJRB ['B003V21WO2', 'B003CHMS4O', 'B006YC3UP0', 'B00AO4E9E0', 'B00ALV8EJM']\n",
      "A353U0L2HAMSHV ['B00AO4EMKQ', 'B000O54H0U', 'B00AAIOP44', 'B00AHF1GK6', 'B00AE07EGO']\n",
      "A19HDB4BN6RFFT ['B0092SVTGA', 'B009HKAWFC', 'B0050OC180', 'B003SJ0FSW', 'B007JBF99U']\n",
      "A3JCWGHCVC2ZNF ['B005YVI3UO', 'B001JKTTVQ', 'B004QX68SK', 'B004S6BXLW', 'B00387F41M']\n",
      "A1HBTW5M7ZZ9PT ['B0085BVFZK', 'B002WTC384', 'B004Z67NSM', 'B00373FE76', 'B002HWS7RM']\n",
      "AKMBOKJQBLI1U ['B00A6O1AP4', 'B00876T3W0', 'B00871KNMY', 'B0032PQPWW', 'B002MZ8BK2']\n",
      "AHN86VFJIJ2JP ['B00GTC1HCI', 'B00HM6IV6K', 'B000XFWO10', 'B000V33OGS', 'B00CYDSAO4']\n",
      "A2A5C9IQ06CG9N ['B003P7VX24', 'B001AO0WCG', 'B000NJG82W', 'B0042WIHNY', 'B0009XH6TG']\n",
      "A2I5QH4F5FDKK5 ['B00HM6K6XQ', 'B00AE078TM', 'B00GYB17P6', 'B00GTC02LA', 'B00AE0790U']\n",
      "A28IBOLVCSQRLQ ['B003VI0HVA', 'B000ARDBH2', 'B0073P01RC', 'B0044XXO84', 'B000TBW0NA']\n",
      "A3FWVV13DJELLV ['B00A0IWSN4', 'B00HM6IV6K', 'B00HM6K6XQ', 'B00106AC06', 'B00HSNWXV6']\n",
      "A2GJX2KCUSR0EI ['B000142FVW', 'B001699TI8', 'B004DK5CCY', 'B003MUYUU6', 'B00FDK0V4M']\n",
      "A1GYEGLX3P2Y7P ['B00GTBZWPW', 'B001ECQ4OY', 'B009YSSLAU', 'B007RTR8T8', 'B00GTC02LA']\n",
      "A3E5V5TSTAY3R9 ['B000127UVY', 'B00I11RWDS', 'B000WYZ9Q4', 'B000127UUA', 'B000H3CPO4']\n",
      "A2PGDUYXZFAPT5 ['B005PYWS60', 'B0063TFLG0', 'B007ZR2RIE', 'B002MZ8BK2', 'B009L0YD6M']\n",
      "A11SWG9T60IQH8 ['B002XBBLJS', 'B000R46I1O', 'B003V21WO2', 'B0018ZPZJC', 'B000HJT1CW']\n",
      "ALEW5AUKCRWHN ['B005ACLU3E', 'B001JKTTVQ', 'B005X2F7JY', 'B006ENQHLS', 'B0061YRVMO']\n",
      "A1ODOGXEYECQQ8 ['B003V21WO2', 'B002TSA90M', 'B00A0IWTDI', 'B00GTBZHUW', 'B001ECQ4OY']\n",
      "A35HOUWHAYZZN6 ['B009FKNGRA', 'B00AWLBACE', 'B00AE0790U', 'B00GTC1HCI', 'B00A0J09C0']\n",
      "A376OJHLE6SU9Q ['B00AWLB9G6', 'B00ALV8EJM', 'B00GTBZN4C', 'B00GTBZ85Q', 'B005TI7NQW']\n",
      "A1X2LENOF84LCQ ['B00AE07EGO', 'B00A0IWTBA', 'B003JA5OJA', 'B00JF3RYPM', 'B0028K3J6W']\n",
      "A158CH42BGFN68 ['B0013UAPVK', 'B006L16BHS', 'B0046VGPHQ', 'B008VHGW7Y', 'B004NMTMUK']\n",
      "A3NHUQ33CFH3VM ['B00AWLBACE', 'B00AE07CPM', 'B002MO3CG6', 'B00GTC1HB4', 'B00AE07BMQ']\n",
      "AH59DZ5AXO8PR ['B005X2F7KI', 'B005UL3LVY', 'B004DK0UDA', 'B002RXW5BA', 'B006GTKSHY']\n",
      "A1X64HF17UU8TX ['B000AADG8I', 'B005UBN5AQ', 'B001F51PXA', 'B003V264WW', 'B000KVH1QU']\n",
      "A1WX42M589VAMQ ['B001FB5IN2', 'B004675EI6', 'B002CMLS50', 'B001KMR9WY', 'B00641UCY8']\n",
      "A33Y8C4818EJL0 ['B00A0J09C0', 'B00AWLBACE', 'B00A0IWSN4', 'B00AE078TM', 'B00G36TJKW']\n",
      "A1APT9S64ARZYX ['B0088D9R5K', 'B000RBUMR8', 'B000JWM7FA', 'B008DLT9H8', 'B000ME2YWG']\n",
      "A2WW57XX2UVLM6 ['B000AO2NXS', 'B00A0IWSIO', 'B0034F9KEU', 'B00GTBZHUW', 'B00AE07FXQ']\n",
      "A3S3R88HA0HZG3 ['B00A0IWRT4', 'B00AE078TM', 'B00A0IWRRG', 'B009YSSLAU', 'B002MO780W']\n",
      "A2PATWWZAXHQYA ['B002QA31SU', 'B0000536P3', 'B0000534VO', 'B003P904EA', 'B004BCT7G6']\n",
      "A3H4L7TJKQHW4Q ['B0008IV7BU', 'B00017XWJ8', 'B003U604Q6', 'B000142Q6G', 'B007Q0WW0S']\n",
      "A2QDOJFFLFGF18 ['B00AWLB9G6', 'B0072XRJ20', 'B00AE07CPM', 'B00AE07FQI', 'B000U0C65C']\n",
      "A1QV5IH6HDRN0L ['B002UGO15M', 'B004FEKA3E', 'B004N0ULSO', 'B0048O2R1E', 'B007YQURGU']\n",
      "A6XHF110BC856 ['B00479FP4Q', 'B0046EBOFG', 'B000MC5US8', 'B000NB3VNO']\n",
      "A2SZLNSI5KOQJT ['B008VSYO5A', 'B00A0IWRU8', 'B005TI7NPI', 'B00A0IWSN4', 'B00A0IWRUI']\n",
      "AG05BT5GLNYLZ ['B00A76CPUA', 'B001JKTTVQ', 'B006T9BBM2', 'B006T8T0P8', 'B004OHQR1Q']\n",
      "A1JLBNDDAJB4OP ['B00006FRW7', 'B0009EXOO6', 'B003TPTGDK', 'B003VI0HVA', 'B0006GZCVK']\n",
      "A1UQBFCERIP7VJ ['B009YSSLAU', 'B004GIM68G', 'B009RNUH7M', 'B001ECQ5CA', 'B00H93NJLS']\n",
      "ATSR2L4FZVO8Z ['B00120IJSC', 'B003UH0528', 'B004S9SEWK', 'B0042GH78G', 'B002VBRPZO']\n",
      "A3S3VSXEFXBMRC ['B003HO30Q2', 'B001P24STG', 'B001619XP0', 'B003VN1ING', 'B0013TM9UQ']\n",
      "A96FRN3LGYUX9 ['B005ITRIOY', 'B001DKRM8O', 'B009CS493U', 'B005XIDZHO', 'B005K49Y4Y']\n",
      "A260QLS8Z33KCQ ['B00I073WLE', 'B007MF5UOM', 'B004DIUWY4', 'B002PBAJ4Y', 'B004BCXAM8']\n",
      "A1PAGHECG401K1 ['B006RFZ66K', 'B001MX89Y8', 'B00G052NFE', 'B001T8S7T8', 'B002VAZINQ']\n",
      "A1UVKA2ZQD2C8Z ['B000ZLVUYO', 'B0028R0WFG', 'B008BT2P7S', 'B001V9OWNU', 'B001DKK7Y0']\n",
      "A3R9H6OKZHHRJD ['B006L6A06Q', 'B0012RXAGG', 'B0012RUKCI', 'B00GTBZWPW', 'B00A0IWRRG']\n",
      "A2R1HUYHXV7H18 ['B00A0J09C0', 'B00AO4EBOI', 'B00AE07BMQ', 'B006L6A10G', 'B002MO3CG6']\n",
      "ATANE2SC44592 ['B00AE07BI0', 'B001ECQ4OY', 'B00GTBZWPW', 'B00GTBZN4C', 'B000E0K7NQ']\n",
      "ADS99W8WMEXZ2 ['B00AE07IEM', 'B00IMHN0B4', 'B001FB5IDW', 'B00D6EDGZI', 'B00H93NJLS']\n",
      "A1QBOC76MIOJYP ['B004DBXLU8', 'B004DBUAKM', 'B001ET7EE6', 'B001ECQ4OY', 'B00ALV8EJM']\n",
      "A1GQAKL9CGQLP1 ['B0000CC64W', 'B0007W1R58', 'B00EOP3MJI', 'B004GIM68G', 'B00B0GOSNI']\n",
      "A1C80VYQMM3FQB ['B0084A5PSK', 'B0017PUPMK', 'B0046ZHQAW', 'B0019CU6T8', 'B004INQ65S']\n",
      "A1R377IPZOKLMM ['B00DQL2TCW', 'B00HB2JQNM', 'B000ELP5KA', 'B00DCNBST4', 'B000QUM5LG']\n",
      "A2K4HN6EECBNR3 ['B00GTC02LA', 'B00AO4EBOI', 'B007RTR8T8', 'B00A0IWRRG', 'B00D6EDGYE']\n",
      "A1X1CEGHTHMBL1 ['B0009OAIE0', 'B0006ZHCK0', 'B003A870SE', 'B000C1UFDE', 'B002JDUMFO']\n",
      "ARYSDAZNRXN6G ['B003OH2Q80', 'B002NGMF6Q', 'B005JYP96W', 'B000X1MCW0', 'B000EA0L5K']\n",
      "A261I3UFZG30Z6 ['B00ANL6RDU', 'B006K9OQSC', 'B00644YNCM', 'B005Y6F4WO', 'B0076D1YF4']\n",
      "A2B8GXSCB1R05T ['B006L6A06Q', 'B005TI7NQ2', 'B004UKENRC', 'B000OFNDMS', 'B001IACZEK']\n",
      "A1RRMZKOMZ2M7J ['B000JL5MK8', 'B0009OAI2C', 'B000C215IW', 'B001GMANIK', 'B0009STDD8']\n",
      "ADMPGWBF0BC9W ['B000KVH1QU', 'B0033AYPXC', 'B005OZH88I', 'B0082D69H0', 'B004LXHEX8']\n",
      "A31B8RZ8YDMRX1 ['B00G2TQNZ4', 'B00GLE8SNK', 'B004MJIL92', 'B00KQBR9FM', 'B00KCFAZTE']\n",
      "AKJHHD5VEH7VG ['B00DCNBST4', 'B001OMI93S', 'B0017TZD7S', 'B003JA3KDW', 'B001D0ACUE']\n",
      "A287547UH1VBJ7 ['B001PN55KQ', 'B001AO0WCG']\n",
      "A29M09QBG9TZLP ['B005TI7NPI', 'B00604MSSC', 'B00A0IWSN4', 'B00HM6K6XQ', 'B00AE07B9O']\n",
      "A1ZGHA3IJV01BK ['B00AWLBACE', 'B00AWLBAE2', 'B009FKNGRA', 'B00GTC03OG', 'B003IXP6P0']\n",
      "A13JU88JAHN72I ['B007BLN17K', 'B001T8W5EQ', 'B000EVGQ8U']\n",
      "A1MFDFUGEVNIFK ['B000WTHKVQ', 'B000M8BE3C', 'B005LN66Y0', 'B000C1VT0W', 'B000C1W2DK']\n",
      "AIIZTJHZLV158 ['B004KU9PN4', 'B002U20DYO', 'B003X18NPW', 'B0002JGU30', 'B0098JU8TW']\n",
      "AZ9JPUSCI0V49 ['B005OZQSQQ', 'B0051918JW', 'B004SU88CU', 'B000H3I3Y0', 'B0030HKJ8I']\n",
      "A20F84KUBWM88B ['B00AWLBACE', 'B0062GZB4Q', 'B003DKO7RG', 'B000MVC1CW', 'B0098JU8T2']\n",
      "APVEFBIJPTYWU ['B0069SC0OQ', 'B000PHRIQM', 'B000MAOWOS', 'B0014UAHQW', 'B004VSN3ME']\n",
      "A2K5AFTU4YOPPW ['B00027D0DU', 'B002WJOOIQ', 'B00147FGJ8', 'B005Z446JC', 'B001183N8G']\n",
      "AY9HUIJWJ8TT7 ['B002T3V294', 'B004MOU4C4', 'B002B4GGUG', 'B004X1QY20']\n",
      "A3ESTWDBNOUJQ7 ['B006OHM11Y', 'B004DIXYUI', 'B001KYS1YM', 'B004ZD2M6I', 'B005UBN2AO']\n",
      "A2X3L31KCXBHCL ['B000E0K7NQ', 'B007RTR8T8', 'B00GYB1AQM', 'B000Q6V1UG', 'B005XIM6J2']\n",
      "A2SSV6KM3W1VFD ['B00AWLBACE', 'B009YSSLAU', 'B00AWLBAE2', 'B001OMI93S', 'B008U5XRX4']\n",
      "A1TPW86OHXTXFC ['B008XWYBF2', 'B000R1RKVY', 'B001H270RQ', 'B000WBBHXG', 'B0038B9ALI']\n",
      "A3NM1MT3Q2FHXV ['B00A0IWRU8', 'B00A0IWRT4', 'B0040H00PE', 'B00HM6IV6K', 'B00AWLBAE2']\n",
      "ADS5APY1NKTL4 ['B001U8L104', 'B007RTR8AM', 'B00099E8ZA', 'B000EEZAXO', 'B00016WW8Q']\n",
      "A5BJMAHZWGJ7N ['B000EGMBP2', 'B005VX8S4G', 'B001J2ZXMI', 'B00AFCP6F2', 'B0013CSGBE']\n",
      "A2H76V7TTCZ4KV ['B002UL10HY', 'B0002YE8IO', 'B004TSFE6Y', 'B000RYSXWG', 'B002B4GGUG']\n",
      "A1X6PD8QYKIJHZ ['B000HGIQRG', 'B006UET9HK', 'B004GC2LLE', 'B0014568D8', 'B000IF3D38']\n",
      "AENH50GW3OKDA ['B0018C0HLQ', 'B00912CL5K', 'B00ATDTZ0Y', 'B002RTIS24', 'B005KT4T44']\n",
      "A36MP37DITBU6F ['B00HM6K6XQ', 'B0072XUY7W', 'B00AE078TM', 'B00AWLB9I4', 'B008AGWMEI']\n",
      "A1P2XYD265YE21 ['B008VSYO5A', 'B005TI7NQW', 'B00AE07BDU', 'B0027CT5VO', 'B00JF3RYPM']\n",
      "A112TFLXGBF6NI ['B000XFSUWW', 'B001DHI0R4', 'B006WVCF18', 'B00132ZG3U']\n",
      "ANXT431V3MW4Z ['B001ADP0OM', 'B000HRVC5I', 'B004BCVALG', 'B007Q22HMY', 'B001G7PPNI']\n",
      "A8O12DCHIADYU ['B001AT5LEU', 'B006KTTGC8', 'B006UET5UG', 'B004I94DF2', 'B005EII2OY']\n",
      "A33PYDS5IBQD7N ['B000P22TIY', 'B00CC7TBHM', 'B003UH0528', 'B007Q0WW0S', 'B002WTC37A']\n",
      "AHUT55E980RDR ['B00AWLB9G6', 'B0072XUY7W', 'B000E0K7NQ', 'B00AO4EBOI', 'B00AE07FQI']\n",
      "AMLLGCP82ZO7C ['B006L1DNWY', 'B005C1C02S', 'B003VMV7D8', 'B006CD6616', 'B00468KRH8']\n",
      "A2W9VGCIJQG0NI ['B002QI1E9K', 'B0009VNI40', 'B00641UCY8']\n",
      "AN9EWQN1LGMY7 ['B001JQLNMI', 'B005UBN5AQ', 'B0039UT9QE', 'B0009OAIE0', 'B000EGMCFG']\n",
      "A2Q3BW3177V542 ['B002PBJIPK', 'B001DPMETG', 'B008V1I2MI', 'B00699IIW8', 'B000142FVW']\n",
      "A10G136JEISLVR ['B003U4LGV0', 'B004MKEMPI', 'B0049J7P3S', 'B0065R18TY', 'B000TAE0RK']\n",
      "A1GUX6R8DV3ZLY ['B005YB36RY', 'B000052ZB4', 'B0001Y74VS', 'B00683MOWK', 'B0082D69H0']\n",
      "ATV36X9V9DRB9 ['B0006LNMIU', 'B000YHLOC2', 'B0089JVEOK', 'B000OV3ZDO']\n",
      "A1T61QP7QHYBRQ ['B00AWLBACE', 'B00A0J084Y', 'B00AE0790U', 'B00AO4EBOI', 'B00AWLBAE2']\n",
      "A3SH6CQYS8FHB ['B003V265QW', 'B000IIHDT0', 'B004OEO0E0', 'B00IALDHDI']\n",
      "AOEUN9718KVRD ['B005TI7NQW', 'B002MO3CG6', 'B009FKNGGQ', 'B00014DMUA', 'B00A0IWTEW']\n",
      "A324GIXX5SIYGA ['B002SKTTVQ', 'B001ECQ4L2', 'B0018SAJAY', 'B003654SVS', 'B006UET5UG']\n",
      "A3RHPBNP2N9RJB ['B000A409J8', 'B003QUHWT8', 'B0058CJV50', 'B004KAVHG2', 'B000A38ZFO']\n",
      "A1EVV74UQYVKRY ['B00AHF1GTM', 'B00AE07BMQ', 'B00AE07CTI', 'B00AE078TM', 'B009FKNGGQ']\n",
      "AEL6CQNQXONBX ['B00A0IWTDI', 'B009VGNYFM', 'B000AO2NXS', 'B00AE07CTI', 'B002MO3CG6']\n",
      "A3TYR1ALBZ2EU9 ['B007L86026', 'B00B2CEHAO', 'B007BLN17K', 'B005UBN5AQ', 'B0084BPHY6']\n",
      "A1KSC91G9AIY2Z ['B007O7AZ3O', 'B0013QOIGC', 'B001ECQ4IU', 'B003UMNO6C', 'B000VF023E']\n",
      "A110PQTEI6THU7 ['B0038TYTSO', 'B001189I3A']\n",
      "AIIR8E34EDKCQ ['B001LF4G4E', 'B001E6G6RU', 'B00005NASR', 'B002DPUXZ2', 'B000EBAHHG']\n",
      "AYOMAHLWRQHUG ['B00AO379NE', 'B00AAJTDLI', 'B00AWLB9I4', 'B00A0IWRRG', 'B00GTBZHUW']\n",
      "AGEKVD8JPZQMT ['B00AE07CPM', 'B00AO4EL34', 'B000E0K7NQ', 'B008VSYO5A', 'B00A0IWRRG']\n",
      "A32ZIX6JXPJX3O ['B001ALPKXA', 'B0020MM8TW', 'B001M9KX78']\n",
      "A3J029KBNG5MNP ['B00AE07BC6', 'B00A0J09GG', 'B00A0IWRT4', 'B00A0IWRU8', 'B00A0J084Y']\n",
      "A3CTOYWB73TMM0 ['B005FVSH0O', 'B004NFTGA8', 'B00027D0DU', 'B000P22TIY', 'B000052YOX']\n",
      "A1P27BGF8NAI29 ['B00BB8ZHIU', 'B000HRVC5I', 'B009FKNGGQ', 'B00122CP30', 'B000AO2NXS']\n",
      "A2DA2NJZ2RIYAB ['B00A0J09C0', 'B00A0J09GG', 'B007JT7AGC', 'B00AE07FXQ', 'B00AE07B9O']\n",
      "A3HJ8ZPQN5VR7X ['B006M1AQDM', 'B000G1MT2U', 'B003YELGF2', 'B0012C7POY', 'B0002Z8LLI']\n",
      "AI0131QZO047J ['B00178VX50', 'B003VMFITM', 'B000G33KEO', 'B003VN00YY', 'B005V0H9SA']\n",
      "A1GT3775JP80UF ['B0018BTA2Y', 'B00150LT40', 'B0065DLADM', 'B000VDUOFM']\n",
      "A6X1O3A5C5FX1 ['B00AE07FUE', 'B004BYSOYK', 'B00ALV8EJW', 'B00AWLB9I4', 'B00HM6IV6K']\n",
      "A3VBF1J95ROAYF ['B0002Z8QG8', 'B001FT3OZI', 'B001PEZAHI', 'B00150LT40', 'B000VV1ZMU']\n",
      "A2OWR5G2OAQF7C ['B002CMLHF6', 'B000R46I1O', 'B000YZLP4Q', 'B004D2DR0Q', 'B00CYDSAO4']\n",
      "A1M04H40ZVGWVG ['B001V9LUO4', 'B005WKJB6C', 'B000UWH3SU', 'B002WTC37U', 'B007U90J5U']\n",
      "A1QTICTBQKS6I6 ['B0006ZHCK0', 'B000NNL7FG', 'B00683MOWK', 'B004GH99QO', 'B000271KR8']\n",
      "A2USMIT2CSA08 ['B001OXO6DO', 'B0014LLC3I', 'B0018QQZMW', 'B001A6N5GE', 'B00021W26M']\n",
      "A1APERZNMEU8PW ['B008K1YYM6', 'B006WVCF18', 'B004R6CAGU', 'B0020YLEYK', 'B001TJXI5U']\n",
      "A2PXXYVFB3HD6O ['B00CXADQ4M', 'B001441QCW', 'B001MP7HYY', 'B001L3YB28', 'B004UE9S9Q']\n",
      "A3LWVPC3KVQAFR ['B0044XXO84', 'B001C4Q3UY', 'B0028BKV4E', 'B004CQ710U', 'B006UET5UG']\n",
      "A3QNV9LUNM589P ['B0000CC64W', 'B0006ZHK7A', 'B003FXE6VI', 'B00028M3N2', 'B001EJOPXE']\n",
      "A2YB7DLC3FOR7W ['B004MTCKSU', 'B002AA13M2', 'B003S19S9W', 'B0050QJ0S2', 'B002A9JONI']\n",
      "A2ZY49IDE6TY5I ['B007RTR8A2', 'B00AE07FXQ', 'B000AO2NXS', 'B00ATY942M', 'B0044TIP0K']\n",
      "A1VUGUKWX4B808 ['B00CJ3MDJW', 'B00DSLFNQ4', 'B002RL8NGI', 'B00ARX8GGA', 'B005FFVATK']\n",
      "A1YUL9PCJR3JTY ['B0015PGFQW', 'B000E75ES2', 'B001OG1CWY', 'B0009ET5O4', 'B001ET72C0']\n",
      "A2VOGNBUMXSW13 ['B0090PHG7Q', 'B0039OVDJ6', 'B00004TMFE', 'B000052YM8', 'B001MWV40U']\n",
      "A1EF37KYK7PRLV ['B002KMXO36', 'B002GENWU8', 'B002QI1F8A', 'B000X040QW', 'B0037MQIT0']\n",
      "ACZ94JB8BFMJ9 ['B00D6EDGZI', 'B006BA3BAY', 'B002QBBMVM', 'B007O7AZBG', 'B001MS7GY2']\n",
      "A2CQ2X9H9HY6W0 ['B00C8YCFU4', 'B00B99O5WK', 'B0071H5C76', 'B000MQSIOW', 'B003UJHSUI']\n",
      "AEJEG1P5S4J9Y ['B001HNNSIU', 'B004N3T6QE', 'B000TNOUA4', 'B001MX89Y8', 'B004KATCFK']\n",
      "A2D4FQHV506EPB ['B00604MSSC', 'B00GTBZNP6', 'B0034F9KEU', 'B001707IQ6', 'B000GCQV9G']\n",
      "A2QWHEI914GHRZ ['B00I6R90Q4', 'B00G052NFE', 'B00IS6XPQY', 'B00GGXFJ7O', 'B00I2495QG']\n",
      "AE7V92R2LVEJF ['B000052YJM', 'B0069FDR96', 'B005UBN2AO', 'B0084A5PSK', 'B004NMTMUK']\n",
      "A2ZKZJGVGIJ8OP ['B002B4O7XE', 'B00016XJ4M', 'B000P6WIHC', 'B005SPWI3O']\n",
      "ABDR6IJ93HFIO ['B00GUTLC0C', 'B00GXZS7AG', 'B00HSNX1AS', 'B00BB8ZHJE', 'B00GP2N66W']\n",
      "A1W31W7O8D5EW ['B004Y9GY44', 'B0019IC2N0', 'B001H54VJI', 'B00A9MKPT0', 'B001DKK7Y0']\n",
      "A2ZKQC0XCIIAEM ['B000E0K7NQ', 'B008VSYO5A', 'B005TI7NPI', 'B00GTBZNP6', 'B00A0IWRRG']\n",
      "ALQGOMOY1F5X9 ['B002X31FUG', 'B0015FSH86', 'B008HBMQTM', 'B000GXGROY', 'B003PL2D6A']\n",
      "A174X51AGFWAMW ['B000KNHJ5G', 'B005AYJ6EW', 'B0008F6ZDI', 'B00BOBKSLK', 'B0012CD32W']\n",
      "A3315AAN855HYG ['B002QI1F8A', 'B000EM9D6Q', 'B002WDIPR8', 'B003CEA88U']\n",
      "A1VQBEW0G4IH1J ['B006L6A10G', 'B00A0IWRU8', 'B00GTC0DFK', 'B009FKNGRA', 'B00GTBZWPW']\n",
      "ACR4HKUT808U1 ['B003V21WO2', 'B0046MZNH8', 'B0020122ZS', 'B005TI7NQW', 'B005TI7NPI']\n",
      "A2A7KXM9B4XW90 ['B004XA81ZE', 'B002QI1E9K', 'B001KYVOJQ', 'B0062GZB4Q', 'B0033AYPXC']\n",
      "A2S7YBFPZX1IGQ ['B0032CDFCS', 'B001CT0954', 'B001E96P0U', 'B005OZW3ZG', 'B008B7QY0E']\n",
      "A2OTGX253O4J4D ['B001GIOV82', 'B001CTQMIC', 'B004VMGTY4', 'B000127UUA', 'B001GIOV8C']\n",
      "A21VGNU5959O85 ['B003M5UOBK', 'B006L6A06Q', 'B00FRDPMQC', 'B003Q33LJ0', 'B004D267RG']\n",
      "A1PK9JYJF5Y2V6 ['B0050GPSW4', 'B003I5ZMDY', 'B0038TVH3Y', 'B000ELP5KA', 'B002HWS7RM']\n",
      "A1A3R2SG60TOR0 ['B001VD8DDG']\n",
      "A3UZ99BQWAJACU ['B004X1QKO2', 'B001GELIBO', 'B00008MOQN', 'B004ITB3IW', 'B0026IFLG2']\n",
      "A34TVK5J8P7XDQ ['B00121UVU0', 'B00HD4F8DK', 'B0002Z8GEK', 'B000UBN5S8']\n",
      "A135SX8ESCQV9B ['B005UKZAJG', 'B0061KQF2K', 'B00644YNCM', 'B0034KYDRE', 'B008R56PVI']\n",
      "A24N4FKHGD7DWT ['B0094GHGQM', 'B005TKZS76', 'B0094G3M6A', 'B004MKEMPI', 'B0039UT9QE']\n",
      "APYKGTU0LFICH ['B00027DDOQ', 'B003YELGF2', 'B00027CGWQ', 'B000GFZWE8', 'B000052ZB4']\n",
      "A36RO7NCM6IUGB ['B000C1VX3A', 'B0009OAGRE', 'B00016X68Q', 'B00021DZCC']\n",
      "A1ITRGMT80D5TK ['B00AO4E9E0', 'B0068G8DTA', 'B007RTR8A2', 'B00AAIOP44', 'B005TI7NPI']\n",
      "A914TQVHI872U ['B00A0J09G6', 'B009FKNGGQ', 'B003AKZCPU', 'B000142C1A', 'B000RGZK02']\n",
      "A3GU3CXHONZJQ6 ['B000BTO6EG', 'B000C1ZFJI', 'B000VOJPI8', 'B000P27CKY', 'B000C1Z3LS']\n",
      "A2WZNM833CJH82 ['B007RTR8UC', 'B001ECQ4JE', 'B009FKNGGQ', 'B0032DHP6O', 'B0030GFY02']\n",
      "A2CHH5P055A0KL ['B002Q52YKG', 'B004BD9152', 'B001OQH6HY', 'B002PBHQP4', 'B007SA3CD2']\n",
      "A2UM324B00HBC8 ['B00GLS58OS', 'B005KJ353U', 'B00HNKRWI8', 'B00HE88JMC', 'B00547H5U2']\n",
      "A1FR87EBHPZHBJ ['B0059NA3MI', 'B003ILUQPM', 'B00CDGR29G', 'B005VX8S4G', 'B001GEEQ90']\n",
      "A3D9NUCR4RXDPY ['B00A0J09C0', 'B00HM6IV6K', 'B000YZGPKU', 'B00HM6JLNW', 'B00GTBZ85Q']\n",
      "AXYVSHTLWBINI ['B005Z41P28', 'B000AO2NXS', 'B0015C0RIC', 'B000CPIMNA', 'B005I2MP62']\n",
      "AJGU56YG8G1DQ ['B0001431AG', 'B000GZES7A', 'B000QUM5LG', 'B003TPTGDK', 'B000CIBVP8']\n",
      "A2JCJJNY43QQIV ['B00AE078TM', 'B00AAIOP44', 'B001LF4G7G', 'B000UPXU2A', 'B00AHF1GK6']\n",
      "A3S8D4BMVASTF9 ['B004EWS5F2', 'B007PY4QV8', 'B005EII0QO', 'B003H8180I', 'B007UM8ZGM']\n",
      "AA1JJNJ5VYI97 ['B000BY2N7S', 'B002XOQSPC', 'B001PEZAHI', 'B000VDUOFM', 'B000QTFT2Y']\n",
      "A3SFI0SLCMP0KX ['B002K6AHQY', 'B00JGCU60W', 'B00A76CPUA', 'B006HT0AK8', 'B00021B8L2']\n",
      "A1ZXEVTNNDKJ61 ['B000F0QCWA']\n",
      "A32NZK5H2NIM13 ['B00092M2X2', 'B005GQ6F4I', 'B0006Q00ZI', 'B001A38Q52', 'B002QI1F8A']\n",
      "A1MI1I73Z5J9MI ['B000GLGBQ0', 'B004DIUWAI', 'B002XHACTM', 'B000XSF1X0', 'B000O3BDHW']\n",
      "A3LJLRIZL38GG3 ['B004X1QY20', 'B007CDSFKU', 'B0026J10CU', 'B004Z40048', 'B003HLTTJM']\n",
      "A1PI8VBCXXSGC7 ['B000GHIBQM', 'B00A0IWSN4', 'B00A0IWSIO', 'B00G052NFE', 'B00GW1HKHW']\n",
      "A17Y11XADHLI8A ['B003CHMS4O', 'B005UGVIQ4', 'B003M57E9A', 'B001JKTTVQ']\n",
      "A19KOAGQJUXL18 ['B000MT1GHA', 'B000052YP6', 'B002T5NMGS', 'B00ALV8EJM', 'B00G36TJKW']\n",
      "A3VN4P1607UR2U ['B00B2CEHAO', 'B003I8I0YY', 'B00683JILU']\n",
      "A1YLLARX683DKC ['B0000531GD', 'B0049E7984', 'B001KYPZRS', 'B001EDHAU0', 'B000OD31WW']\n",
      "A1IU7S4HCK1XK0 ['B000ZMBSPE', 'B00GNA9K3E', 'B00I6CRX04', 'B0000AN9L9', 'B002GP5XD6']\n",
      "A2FWDBKX76ILA7 ['B0030HMQTS', 'B006K9OQSC', 'B00GCQMSVA', 'B002XHACJW', 'B0000536M2']\n",
      "A1X5VVJP78U81E ['B006UET5UG', 'B002XHACTM', 'B000NNL7FG', 'B004Y9GS0E', 'B0000531WZ']\n",
      "AGWWIU5K88RKB ['B00AINMFAC']\n",
      "A1UMSB7LAW0RIR ['B00AE07CTI', 'B000E0K7NQ', 'B00A0J09G6', 'B007JT7AIA', 'B00A0IWRRG']\n",
      "A2HMP5LYU0BF6B ['B0047ELRO8', 'B002B4GGUG', 'B002XHACTM', 'B002MZ8BK2', 'B000R80ZTQ']\n",
      "A1Q3W2FX8LKH19 ['B0081CWUD4', 'B0039UTTC8', 'B0009ET6BQ', 'B005TKZS76', 'B005G9LPAY']\n",
      "A2D1LPEUCTNT8X ['B0012J30LY', 'B00JX979CQ', 'B00011QVHO', 'B008PUJBJS', 'B001QFDTWO']\n",
      "A1RVM6W2YI7568 ['B000BIUGTQ', 'B000O01CJO', 'B002UUT38I', 'B0000UTUVU', 'B0000UTUW4']\n",
      "A1NBK07JEBCFI ['B003GDBEBM', 'B0009EXOO6', 'B00141XJJS', 'B000UPRSKA']\n",
      "A1R1BFJCMWX0Y3 ['B00AE07BDU', 'B00A0IWRU8', 'B00ALV8EJW', 'B005TI7NPI', 'B00AE07BMQ']\n",
      "AC1UO4XW14D6W ['B007SG2QT2', 'B007XA49O8', 'B0000YUX4O', 'B002WTC37U', 'B004GT440S']\n",
      "A1FU6N9PIEIL5F ['B0030HKJ8I', 'B004KXKG20', 'B0017U10SI', 'B0058CJV50', 'B001BAG38G']\n",
      "A2AX9C569CKHOJ ['B004JLGC12', 'B00649P4JS', 'B001SERK9G', 'B007CY2C76', 'B00008CMOR']\n",
      "A10Y59HW4O47N0 ['B00132FV8U']\n",
      "A3FA78E0G3G4GQ ['B0006LNJ56', 'B00912CL5K', 'B000052YM7', 'B004Z209HS', 'B006ZBP8NM']\n",
      "A21936E2ZRY72J ['B0000632EN', 'B003NV9R2U', 'B0009OAHRI']\n",
      "A1BS22O15EOQ9S ['B001TJXI5U', 'B005P0OBSM', 'B0016P4P4K', 'B005V1A05S', 'B000GDDKIU']\n",
      "A2LAS014NSRW72 ['B00GTBZHUW', 'B000FBNYRU', 'B007A592HU', 'B004YZMKKU', 'B00BXKET7G']\n",
      "A2G35B0XBEVQTC ['B0000533CC']\n",
      "A225UWT247BBBH ['B0010O3URU', 'B002VLZHLI', 'B001AZS6R8', 'B00512CREO', 'B000AU15E0']\n",
      "A17W4YG9W016T1 ['B000052ZB2', 'B004CQXZ5U', 'B001ET7EE6']\n",
      "A2K7V3G4598QRF ['B004DBUAGG', 'B0019JAQPA', 'B005TI7L6O', 'B0009R5B8A']\n",
      "A1DQHS7MOVYYYA ['B000Z605H2', 'B005KJ35D0', 'B004D267RG', 'B0039UTO3M', 'B007RTR9DS']\n",
      "AANHR0DB9SZ80 ['B00117VR1M', 'B0013N483I', 'B000N2IGWY', 'B003LYDBCG', 'B000OFB5QO']\n",
      "A37J8XKLNOX2RO ['B003YC6GKO', 'B004BCEFUY', 'B0014LLC3I']\n",
      "APG4YVSUN3T6S ['B0034E702U', 'B000TDFA3K', 'B0062W4TD4', 'B002IT3KD0', 'B00120XR0M']\n",
      "A2ZHH7AK83JB5G ['B00GTC02LA', 'B00CP0R5LK', 'B00HNKRWII', 'B002MO3CG6', 'B00GYB17P6']\n",
      "A1CI63P473W5RJ ['B002S8RWYY', 'B001TJXI5U', 'B004TSF8R4', 'B004IZJ2QG', 'B006U98T08']\n",
      "AJRFZ0VZ0LD26 ['B00A0J09GG', 'B009GEUP6A', 'B00ALV8EJW', 'B000YZGP4G', 'B005LZT9GU']\n",
      "A3N3ZTC5LDWDWD ['B005DU5MY6', 'B005VX8S4G', 'B00876T3W0', 'B006U95N34', 'B00AZBVKAS']\n",
      "A3GA09FYFKL4EY ['B002PBHQP4', 'B006UET4XE', 'B00008MOQE', 'B004Y9M4DE', 'B002XHACTM']\n",
      "A2UJT1C0E0DWVQ ['B005HIH7YM', 'B0068DF82S', 'B000Q7XDR4', 'B000PI4J3G', 'B008HBMRRS']\n",
      "A5A3C6XVDYUND ['B0002YE8V6', 'B0009F3NGE', 'B00AE07H0M', 'B00ALV8EJM', 'B0000536P4']\n",
      "AV6823XS14U41 ['B000052ZB4', 'B001G7OCSM', 'B000H3EO9I', 'B0030F6BDW', 'B001A3ML3K']\n",
      "A1HOPKK8E3MIX6 ['B0009OAIKY', 'B001FWXIBU', 'B0017JV8I6', 'B0000531SW', 'B000KONYJK']\n",
      "A2JNO9OR8FGNR4 ['B0002Z8HAI', 'B004INUWX0', 'B00A20OQYE']\n",
      "AGKAEFSFYWBDF ['B00CXN66M8', 'B00A9R0BXU', 'B008SPOKIW', 'B006T8T0P8', 'B0032PQPWW']\n",
      "AHYPRXI7F5QXS ['B004NJ8WFO', 'B002LIXTFC', 'B000VEMWB0', 'B001BKFF76', 'B00013YYS0']\n",
      "A1YVJ2CLK0L2WR ['B004OE9RO8', 'B000PHRIQM', 'B004A7OVBI', 'B007FAOPP4', 'B002L6PXNA']\n",
      "A5C2PJ2RFO4WS ['B0002Z8HAI', 'B0043TURKC', 'B0043TUSME']\n",
      "A3GKD8MAHURH91 ['B000WQU5IE', 'B003Z4QHP0']\n",
      "A2NIUVVH46ZDTH ['B000RGZK02', 'B000P65UI6']\n",
      "A27UE9HJRZ22YI ['B001HTYJLO', 'B0000535RD', 'B001ET6Y4C', 'B003P904EA', 'B000ODNSR0']\n",
      "A177B2VPWX4P55 ['B006OC431K']\n",
      "A2R9M9ALI356JU ['B000JL69OG', 'B001GIOV8C', 'B0000ZLEFU', 'B0000530EZ']\n",
      "A3GNEPABXLTKON ['B0018C0HLQ', 'B000PQDKU6', 'B0045K1N8E', 'B00CJIOG0Q', 'B008PEXV3Q']\n",
      "A3K7I9EGDHAGU4 ['B00121UVU0', 'B002UJ31HS', 'B000P6I3WG']\n",
      "A3KO6JEVS1FJ8X ['B000L9YYTS', 'B0012QD7EC', 'B003AVNLP2', 'B000REOEYM']\n",
      "A1XQ0F01CF84Y3 ['B000GIOBY2', 'B000C1ZFBG', 'B000EE803Q', 'B000EEX7TI', 'B004D8JQ4G']\n",
      "AJ0LVMSVJ0CN1 ['B009JKDCEI', 'B005I8RH78', 'B0046CMBK0', 'B00117CH5M']\n",
      "A2FQZKL2KIZACO ['9790790961', 'B00110Q8FO']\n",
      "A3VV0Z7QF0U4W0 ['B00027DDOQ', 'B0038QLU66', 'B000EX5JO0']\n",
      "A1VUN4JU731CBH ['B000YJ2SKM']\n",
      "A1PTBXZG04GT29 ['B00IP42FBA']\n"
     ]
    }
   ],
   "source": [
    "\n",
    "for uid, user_ratings in top_n.items():\n",
    "    print(uid, [iid for (iid, _) in user_ratings])"
   ]
  },
  {
   "cell_type": "markdown",
   "metadata": {},
   "source": [
    "Here are some 5 products recommendations "
   ]
  },
  {
   "cell_type": "markdown",
   "metadata": {},
   "source": [
    "## Recommendation System - Part III\n",
    "* For a business without any user-item purchase history, a search engine based recommendation system can be designed for users. The product recommendations can be based on textual clustering analysis given in product description.\n",
    "* **Dataset : **[Home Depot's dataset with product dataset.](https://www.kaggle.com/c/home-depot-product-search-relevance/data)"
   ]
  },
  {
   "cell_type": "code",
   "execution_count": 244,
   "metadata": {},
   "outputs": [],
   "source": [
    "# Importing libraries\n",
    "\n",
    "from sklearn.feature_extraction.text import TfidfVectorizer, CountVectorizer\n",
    "from sklearn.neighbors import NearestNeighbors\n",
    "from sklearn.cluster import KMeans\n",
    "from sklearn.metrics import adjusted_rand_score"
   ]
  },
  {
   "cell_type": "markdown",
   "metadata": {},
   "source": [
    "### Item to item based recommendation system based on product description\n",
    "\n",
    "Applicable when business is setting up its E-commerce website for the first time"
   ]
  },
  {
   "cell_type": "code",
   "execution_count": 245,
   "metadata": {},
   "outputs": [
    {
     "data": {
      "text/plain": [
       "(124428, 2)"
      ]
     },
     "execution_count": 245,
     "metadata": {},
     "output_type": "execute_result"
    }
   ],
   "source": [
    "product_descriptions = pd.read_csv('product_descriptions.csv')\n",
    "product_descriptions.shape"
   ]
  },
  {
   "cell_type": "markdown",
   "metadata": {},
   "source": [
    "#### Checking for missing values"
   ]
  },
  {
   "cell_type": "code",
   "execution_count": 246,
   "metadata": {},
   "outputs": [
    {
     "data": {
      "text/html": [
       "<div>\n",
       "<style scoped>\n",
       "    .dataframe tbody tr th:only-of-type {\n",
       "        vertical-align: middle;\n",
       "    }\n",
       "\n",
       "    .dataframe tbody tr th {\n",
       "        vertical-align: top;\n",
       "    }\n",
       "\n",
       "    .dataframe thead th {\n",
       "        text-align: right;\n",
       "    }\n",
       "</style>\n",
       "<table border=\"1\" class=\"dataframe\">\n",
       "  <thead>\n",
       "    <tr style=\"text-align: right;\">\n",
       "      <th></th>\n",
       "      <th>product_uid</th>\n",
       "      <th>product_description</th>\n",
       "    </tr>\n",
       "  </thead>\n",
       "  <tbody>\n",
       "    <tr>\n",
       "      <th>0</th>\n",
       "      <td>100001</td>\n",
       "      <td>Not only do angles make joints stronger, they ...</td>\n",
       "    </tr>\n",
       "    <tr>\n",
       "      <th>1</th>\n",
       "      <td>100002</td>\n",
       "      <td>BEHR Premium Textured DECKOVER is an innovativ...</td>\n",
       "    </tr>\n",
       "    <tr>\n",
       "      <th>2</th>\n",
       "      <td>100003</td>\n",
       "      <td>Classic architecture meets contemporary design...</td>\n",
       "    </tr>\n",
       "    <tr>\n",
       "      <th>3</th>\n",
       "      <td>100004</td>\n",
       "      <td>The Grape Solar 265-Watt Polycrystalline PV So...</td>\n",
       "    </tr>\n",
       "    <tr>\n",
       "      <th>4</th>\n",
       "      <td>100005</td>\n",
       "      <td>Update your bathroom with the Delta Vero Singl...</td>\n",
       "    </tr>\n",
       "  </tbody>\n",
       "</table>\n",
       "</div>"
      ],
      "text/plain": [
       "   product_uid                                product_description\n",
       "0       100001  Not only do angles make joints stronger, they ...\n",
       "1       100002  BEHR Premium Textured DECKOVER is an innovativ...\n",
       "2       100003  Classic architecture meets contemporary design...\n",
       "3       100004  The Grape Solar 265-Watt Polycrystalline PV So...\n",
       "4       100005  Update your bathroom with the Delta Vero Singl..."
      ]
     },
     "execution_count": 246,
     "metadata": {},
     "output_type": "execute_result"
    }
   ],
   "source": [
    "# Missing values\n",
    "\n",
    "product_descriptions = product_descriptions.dropna()\n",
    "product_descriptions.shape\n",
    "product_descriptions.head()"
   ]
  },
  {
   "cell_type": "code",
   "execution_count": 247,
   "metadata": {},
   "outputs": [
    {
     "data": {
      "text/plain": [
       "0    Not only do angles make joints stronger, they ...\n",
       "1    BEHR Premium Textured DECKOVER is an innovativ...\n",
       "2    Classic architecture meets contemporary design...\n",
       "3    The Grape Solar 265-Watt Polycrystalline PV So...\n",
       "4    Update your bathroom with the Delta Vero Singl...\n",
       "5    Achieving delicious results is almost effortle...\n",
       "6    The Quantum Adjustable 2-Light LED Black Emerg...\n",
       "7    The Teks #10 x 1-1/2 in. Zinc-Plated Steel Was...\n",
       "8    Get the House of Fara 3/4 in. x 3 in. x 8 ft. ...\n",
       "9    Valley View Industries Metal Stakes (4-Pack) a...\n",
       "Name: product_description, dtype: object"
      ]
     },
     "execution_count": 247,
     "metadata": {},
     "output_type": "execute_result"
    }
   ],
   "source": [
    "product_descriptions1 = product_descriptions.head(500)\n",
    "# product_descriptions1.iloc[:,1]\n",
    "\n",
    "product_descriptions1[\"product_description\"].head(10)"
   ]
  },
  {
   "cell_type": "markdown",
   "metadata": {},
   "source": [
    "#### Feature extraction from product descriptions\n",
    "\n",
    "Converting the text in product description into numerical data for analysis"
   ]
  },
  {
   "cell_type": "code",
   "execution_count": 248,
   "metadata": {},
   "outputs": [
    {
     "data": {
      "text/plain": [
       "<500x8932 sparse matrix of type '<class 'numpy.float64'>'\n",
       "\twith 34817 stored elements in Compressed Sparse Row format>"
      ]
     },
     "execution_count": 248,
     "metadata": {},
     "output_type": "execute_result"
    }
   ],
   "source": [
    "vectorizer = TfidfVectorizer(stop_words='english')\n",
    "X1 = vectorizer.fit_transform(product_descriptions1[\"product_description\"])\n",
    "X1"
   ]
  },
  {
   "cell_type": "markdown",
   "metadata": {},
   "source": [
    "#### Visualizing product clusters in subset of data"
   ]
  },
  {
   "cell_type": "code",
   "execution_count": 249,
   "metadata": {},
   "outputs": [
    {
     "data": {
      "image/png": "[encoded data removed]",
      "text/plain": [
       "<Figure size 640x480 with 1 Axes>"
      ]
     },
     "metadata": {},
     "output_type": "display_data"
    }
   ],
   "source": [
    "# Fitting K-Means to the dataset\n",
    "\n",
    "X=X1\n",
    "\n",
    "kmeans = KMeans(n_clusters = 10, init = 'k-means++')\n",
    "y_kmeans = kmeans.fit_predict(X)\n",
    "plt.plot(y_kmeans, \".\")\n",
    "plt.show()\n"
   ]
  },
  {
   "cell_type": "code",
   "execution_count": 250,
   "metadata": {},
   "outputs": [],
   "source": [
    "def print_cluster(i):\n",
    "    print(\"Cluster %d:\" % i),\n",
    "    for ind in order_centroids[i, :10]:\n",
    "        print(' %s' % terms[ind]),\n",
    "    print"
   ]
  },
  {
   "cell_type": "markdown",
   "metadata": {},
   "source": [
    "## Output\n",
    "* Recommendation of product based on the current product selected by user.\n",
    "* To recommend related product based on, Frequently bought together. "
   ]
  },
  {
   "cell_type": "markdown",
   "metadata": {},
   "source": [
    "#### Top words in each cluster based on product description"
   ]
  },
  {
   "cell_type": "code",
   "execution_count": 251,
   "metadata": {},
   "outputs": [
    {
     "name": "stdout",
     "output_type": "stream",
     "text": [
      "Top terms per cluster:\n",
      "Cluster 0:\n",
      " snow\n",
      " speed\n",
      " engine\n",
      " blower\n",
      " tool\n",
      " helps\n",
      " control\n",
      " year\n",
      " dust\n",
      " easy\n",
      "Cluster 1:\n",
      " metal\n",
      " use\n",
      " outdoor\n",
      " drill\n",
      " concrete\n",
      " seal\n",
      " roofing\n",
      " rust\n",
      " downspout\n",
      " temperature\n",
      "Cluster 2:\n",
      " storage\n",
      " shelves\n",
      " lbs\n",
      " adjustable\n",
      " finish\n",
      " shelf\n",
      " duty\n",
      " unit\n",
      " commercial\n",
      " use\n",
      "Cluster 3:\n",
      " wall\n",
      " panels\n",
      " easy\n",
      " walls\n",
      " insulation\n",
      " sheet\n",
      " plate\n",
      " 65\n",
      " door\n",
      " home\n",
      "Cluster 4:\n",
      " post\n",
      " wood\n",
      " painted\n",
      " ft\n",
      " vary\n",
      " product\n",
      " proposition\n",
      " nbsp\n",
      " residents\n",
      " california\n",
      "Cluster 5:\n",
      " light\n",
      " ft\n",
      " power\n",
      " watt\n",
      " air\n",
      " led\n",
      " kit\n",
      " fan\n",
      " volt\n",
      " cooling\n",
      "Cluster 6:\n",
      " cycle\n",
      " oven\n",
      " cooking\n",
      " cu\n",
      " water\n",
      " wash\n",
      " steel\n",
      " steam\n",
      " ft\n",
      " easy\n",
      "Cluster 7:\n",
      " frame\n",
      " fabric\n",
      " patio\n",
      " outdoor\n",
      " aluminum\n",
      " coated\n",
      " collection\n",
      " dining\n",
      " bronze\n",
      " cushions\n",
      "Cluster 8:\n",
      " water\n",
      " toilet\n",
      " heater\n",
      " tank\n",
      " gal\n",
      " flush\n",
      " bowl\n",
      " easy\n",
      " gas\n",
      " spray\n",
      "Cluster 9:\n",
      " steel\n",
      " wheels\n",
      " easy\n",
      " ball\n",
      " lb\n",
      " capacity\n",
      " vinyl\n",
      " construction\n",
      " features\n",
      " easily\n"
     ]
    },
    {
     "name": "stderr",
     "output_type": "stream",
     "text": [
      "D:\\Installations\\Anaconda\\envs\\bank\\lib\\site-packages\\sklearn\\utils\\deprecation.py:87: FutureWarning: Function get_feature_names is deprecated; get_feature_names is deprecated in 1.0 and will be removed in 1.2. Please use get_feature_names_out instead.\n",
      "  warnings.warn(msg, category=FutureWarning)\n"
     ]
    }
   ],
   "source": [
    "# # Optimal clusters is \n",
    "\n",
    "true_k = 10\n",
    "\n",
    "model = KMeans(n_clusters=true_k, init='k-means++', max_iter=100, n_init=1)\n",
    "model.fit(X1)\n",
    "\n",
    "print(\"Top terms per cluster:\")\n",
    "order_centroids = model.cluster_centers_.argsort()[:, ::-1]\n",
    "terms = vectorizer.get_feature_names()\n",
    "for i in range(true_k):\n",
    "    print_cluster(i)"
   ]
  },
  {
   "cell_type": "markdown",
   "metadata": {},
   "source": [
    "#### Predicting clusters based on key search words"
   ]
  },
  {
   "cell_type": "code",
   "execution_count": 252,
   "metadata": {},
   "outputs": [],
   "source": [
    "def show_recommendations(product):\n",
    "    #print(\"Cluster ID:\")\n",
    "    Y = vectorizer.transform([product])\n",
    "    prediction = model.predict(Y)\n",
    "    #print(prediction)\n",
    "    print_cluster(prediction[0])"
   ]
  },
  {
   "cell_type": "markdown",
   "metadata": {},
   "source": [
    "* **Keyword : ** cutting tool"
   ]
  },
  {
   "cell_type": "code",
   "execution_count": 253,
   "metadata": {},
   "outputs": [
    {
     "name": "stdout",
     "output_type": "stream",
     "text": [
      "Cluster 0:\n",
      " snow\n",
      " speed\n",
      " engine\n",
      " blower\n",
      " tool\n",
      " helps\n",
      " control\n",
      " year\n",
      " dust\n",
      " easy\n"
     ]
    }
   ],
   "source": [
    "show_recommendations(\"cutting tool\")"
   ]
  },
  {
   "cell_type": "markdown",
   "metadata": {},
   "source": [
    "* **Keyword : **spray paint"
   ]
  },
  {
   "cell_type": "code",
   "execution_count": 254,
   "metadata": {},
   "outputs": [
    {
     "name": "stdout",
     "output_type": "stream",
     "text": [
      "Cluster 2:\n",
      " storage\n",
      " shelves\n",
      " lbs\n",
      " adjustable\n",
      " finish\n",
      " shelf\n",
      " duty\n",
      " unit\n",
      " commercial\n",
      " use\n"
     ]
    }
   ],
   "source": [
    "show_recommendations(\"spray paint\")"
   ]
  },
  {
   "cell_type": "markdown",
   "metadata": {},
   "source": [
    "* **Keyword : **steel drill"
   ]
  },
  {
   "cell_type": "code",
   "execution_count": 255,
   "metadata": {},
   "outputs": [
    {
     "name": "stdout",
     "output_type": "stream",
     "text": [
      "Cluster 1:\n",
      " metal\n",
      " use\n",
      " outdoor\n",
      " drill\n",
      " concrete\n",
      " seal\n",
      " roofing\n",
      " rust\n",
      " downspout\n",
      " temperature\n"
     ]
    }
   ],
   "source": [
    "show_recommendations(\"steel drill\")"
   ]
  },
  {
   "cell_type": "markdown",
   "metadata": {},
   "source": [
    "In case a word appears in multiple clusters, the algorithm chooses the cluster with the highest frequency of occurance of the word."
   ]
  },
  {
   "cell_type": "markdown",
   "metadata": {},
   "source": [
    "* **Keyword : **water"
   ]
  },
  {
   "cell_type": "code",
   "execution_count": 256,
   "metadata": {
    "scrolled": true
   },
   "outputs": [
    {
     "name": "stdout",
     "output_type": "stream",
     "text": [
      "Cluster 8:\n",
      " water\n",
      " toilet\n",
      " heater\n",
      " tank\n",
      " gal\n",
      " flush\n",
      " bowl\n",
      " easy\n",
      " gas\n",
      " spray\n"
     ]
    }
   ],
   "source": [
    "show_recommendations(\"water\")"
   ]
  },
  {
   "cell_type": "markdown",
   "metadata": {},
   "source": [
    "Once a cluster is identified based on the user's search words, the recommendation system can display items from the corresponding product clusters based on the product descriptions."
   ]
  },
  {
   "cell_type": "markdown",
   "metadata": {},
   "source": [
    "## Evaluation of all models"
   ]
  },
  {
   "cell_type": "markdown",
   "metadata": {},
   "source": [
    "#### Popularity based Model"
   ]
  },
  {
   "cell_type": "code",
   "execution_count": 94,
   "metadata": {},
   "outputs": [
    {
     "name": "stdout",
     "output_type": "stream",
     "text": [
      "The RMSE value for Recommender model is 1.3078273121694615\n"
     ]
    }
   ],
   "source": [
    "import sklearn.metrics as metric\n",
    "from math import sqrt\n",
    "MSE = metric.mean_squared_error(pred_df['true_ratings'], pred_df['predicted_ratings'])\n",
    "print('The RMSE value for Recommender model is', sqrt(MSE))"
   ]
  },
  {
   "cell_type": "markdown",
   "metadata": {},
   "source": [
    "#### Collaborative Based Filtering"
   ]
  },
  {
   "cell_type": "code",
   "execution_count": 92,
   "metadata": {},
   "outputs": [
    {
     "name": "stdout",
     "output_type": "stream",
     "text": [
      "4116\n"
     ]
    },
    {
     "data": {
      "text/plain": [
       "list"
      ]
     },
     "execution_count": 92,
     "metadata": {},
     "output_type": "execute_result"
    }
   ],
   "source": [
    "print(len(testset))\n",
    "type(testset)"
   ]
  },
  {
   "cell_type": "markdown",
   "metadata": {},
   "source": [
    "#### KNN with means"
   ]
  },
  {
   "cell_type": "code",
   "execution_count": 90,
   "metadata": {},
   "outputs": [
    {
     "data": {
      "text/plain": [
       "Prediction(uid='A25C2M3QF9G7OQ', iid='B009YSSLAU', r_ui=4.0, est=4.516699820834101, details={'actual_k': 10, 'was_impossible': False})"
      ]
     },
     "execution_count": 90,
     "metadata": {},
     "output_type": "execute_result"
    }
   ],
   "source": [
    "# Evalute on test set\n",
    "test_pred = model.test(testset)\n",
    "test_pred[0]"
   ]
  },
  {
   "cell_type": "code",
   "execution_count": 91,
   "metadata": {},
   "outputs": [
    {
     "name": "stdout",
     "output_type": "stream",
     "text": [
      "RMSE: 1.0561\n"
     ]
    },
    {
     "data": {
      "text/plain": [
       "1.0561184327784499"
      ]
     },
     "execution_count": 91,
     "metadata": {},
     "output_type": "execute_result"
    }
   ],
   "source": [
    "# compute RMSE\n",
    "accuracy.rmse(test_pred)"
   ]
  },
  {
   "cell_type": "markdown",
   "metadata": {},
   "source": [
    "#### SVD"
   ]
  },
  {
   "cell_type": "code",
   "execution_count": 129,
   "metadata": {},
   "outputs": [
    {
     "name": "stdout",
     "output_type": "stream",
     "text": [
      "RMSE: 0.8718\n"
     ]
    },
    {
     "data": {
      "text/plain": [
       "0.8717742852178509"
      ]
     },
     "execution_count": 129,
     "metadata": {},
     "output_type": "execute_result"
    }
   ],
   "source": [
    "# Use the \"best model\" for prediction\n",
    "gs.test(testset)\n",
    "accuracy.rmse(gs.test(testset))"
   ]
  },
  {
   "cell_type": "markdown",
   "metadata": {},
   "source": [
    "SVD has much better results over others"
   ]
  },
  {
   "cell_type": "markdown",
   "metadata": {},
   "source": [
    "#### Summary: \n",
    "\n",
    "This works best if a business is setting up its e-commerce website for the first time and does not have user-item purchase/rating history to start with initially. This recommendation system will help the users get a good recommendation to start with and once the buyers have a purchased history, the recommendation engine can use the model-based collaborative filtering technique."
   ]
  },
  {
   "cell_type": "code",
   "execution_count": null,
   "metadata": {},
   "outputs": [],
   "source": []
  }
 ],
 "metadata": {
  "kernelspec": {
   "display_name": "Python 3 (ipykernel)",
   "language": "python",
   "name": "python3"
  },
  "language_info": {
   "codemirror_mode": {
    "name": "ipython",
    "version": 3
   },
   "file_extension": ".py",
   "mimetype": "text/x-python",
   "name": "python",
   "nbconvert_exporter": "python",
   "pygments_lexer": "ipython3",
   "version": "3.9.12"
  }
 },
 "nbformat": 4,
 "nbformat_minor": 1
}
